{
 "cells": [
  {
   "cell_type": "markdown",
   "metadata": {
    "id": "QRXPT-pww-M_"
   },
   "source": [
    "---\n",
    "# **RUN on dataset**\n",
    "---"
   ]
  },
  {
   "cell_type": "code",
   "execution_count": 150,
   "metadata": {
    "executionInfo": {
     "elapsed": 46,
     "status": "ok",
     "timestamp": 1673690547385,
     "user": {
      "displayName": "Giuliano Grossi",
      "userId": "05046904419500019805"
     },
     "user_tz": -60
    },
    "id": "42viYZZRd_u5"
   },
   "outputs": [],
   "source": [
    "from pyVHR.analysis.pipeline import Pipeline\n",
    "from pyVHR.analysis.stats import StatAnalysis\n",
    "from pyVHR.plot.visualize import *\n",
    "import os\n",
    "import pandas as pd\n",
    "import plotly.express as px\n",
    "from numpy import round as r\n",
    "import plotly.io as pio\n",
    "\n",
    "# set the right renderer for plotly: 'jupyterlab', 'colab', etc\n",
    "pio.renderers.default = 'jupyterlab'\n",
    "\n",
    "# main functions \n",
    "\n",
    "def ANALYSIS(dataset, approach, metrics=['MAE'], j_data=False, writeFile=False):\n",
    "  \"\"\"Print boxplot analysis\"\"\"\n",
    "\n",
    "  cd = os.getcwd() # current dir\n",
    "  if not j_data:\n",
    "    print('## Dataset: ' + dataset)\n",
    "    print('   Approach: ' + approach)\n",
    "    path = path_results + dataset + \"_\" + approach + \".h5\"\n",
    "    print('   h5      :', path)\n",
    "    cfg = path_results + dataset + \"_\" + approach + \".cfg\"\n",
    "    print('   cfg     :', cfg, end='\\n\\n')\n",
    "  else:\n",
    "    print('## Path dir: ' + dataset)\n",
    "    print('   Approach: ' + approach)\n",
    "    path = path_results + dataset \n",
    "    print('   path  = ', path)\n",
    "\n",
    "  filenameH5 = os.path.join(cd, path)\n",
    "  \n",
    "  # boxplot\n",
    "  for m in metrics:\n",
    "    st = StatAnalysis(filenameH5, join_data=j_data)\n",
    "    if m=='MAE': \n",
    "      scale = 'log' \n",
    "    else: \n",
    "      scale = 'linear'\n",
    "    fig = st.displayBoxPlot(metric=m, scale=scale)\n",
    "    fig.show()\n",
    "    if writeFile:\n",
    "      filenamePNG = path_results + dataset + \"_\" + approach + \"_\" + m + \"_MAE.png\"\n",
    "      fig.write_image(filenamePNG)  \n",
    "\n",
    "def STATS(dataset, approach='clustering'):\n",
    "  \"\"\"Do stats analysis\"\"\"\n",
    "  \n",
    "  cd = os.getcwd() # current dir\n",
    "  path = path_results + dataset + \"_\" + approach + \".h5\"\n",
    "  df = pd.read_hdf(os.path.join(cd, path))\n",
    "\n",
    "  # compute errors\n",
    "  MAE_mean, MAE_std, MAE_median =    r(df['MAE'].mean()[0],2),  r(df['MAE'].std(),2),  r(df['MAE'].median(),2)\n",
    "  RMSE_mean, RMSE_std, RMSE_median = r(df['RMSE'].mean()[0],2), r(df['RMSE'].std(),2), r(df['RMSE'].median(),2)\n",
    "  PCC_mean, PCC_std, PCC_median =    r(df['PCC'].mean()[0],2),  r(df['PCC'].std(),2),  r(df['PCC'].median(),2)\n",
    "  CCC_mean, CCC_std, CCC_median =    r(df['CCC'].mean()[0],2),  r(df['CCC'].std(),2),  r(df['CCC'].median(),2)\n",
    "  SNR_mean, SNR_std, SNR_median =    r(df['SNR'].mean()[0],2),  r(df['SNR'].std(),2),  r(df['SNR'].median(),2)\n",
    "  MAX_mean, MAX_std, MAX_median =    r(df['MAX'].mean()[0],2),  r(df['MAX'].std(),2),  r(df['MAX'].median(),2)\n",
    "\n",
    " # print table \n",
    "  table = [[MAE_mean, MAE_std, MAE_median], [RMSE_mean, RMSE_std, RMSE_median], [PCC_mean, PCC_std, PCC_median],\n",
    "           [CCC_mean, CCC_std, CCC_median], [SNR_mean, SNR_std, SNR_median], [MAX_mean, MAX_std, MAX_median]]\n",
    "  stats = pd.DataFrame(table, columns = [ 'MEANS', 'STD', 'MEDIANS'], index=['MAE', 'RMSE', 'PCC', 'CCC', 'SNR', 'MAX'])\n",
    "  print('\\n** Stats table **')\n",
    "  print(stats)\n",
    "\n",
    "\n",
    "def RUN(dataset, method):\n",
    "  \"\"\"Run methods on a dataset\"\"\"\n",
    "\n",
    "  # set paths\n",
    "  print('## Dataset: ' + dataset)\n",
    "  print('Using...')\n",
    "  cd = os.getcwd() # current dir\n",
    "  path = path_results + dataset + \"_\" + method + \".h5\"\n",
    "  print('   filename h5: ', path)\n",
    "  cfg = path_results + dataset + \"_\" + method + \".cfg\"\n",
    "  print('   cfg        :', cfg)\n",
    "  print('\\n')\n",
    "\n",
    "  # pipeline\n",
    "  pl = Pipeline()\n",
    "  res = pl.run_on_dataset(os.path.join(cd, cfg), verb=1)\n",
    "  res.saveResults(filenameH5)\n",
    "  print('Written file: ' + filenameH5 + '\\n\\n')\n",
    "\n",
    "def DETAILS(dataset, method, metric='MAE'):\n",
    "  \"\"\"Show performance details on each video of the dataset\"\"\"\n",
    "\n",
    "  # set paths\n",
    "  cd = os.getcwd() # current dir\n",
    "  path = path_results + dataset + \"_\" + method + \".h5\"\n",
    "  print('## Dataset: ' + dataset)\n",
    "  print('   filename h5: ', path)\n",
    "  df = pd.read_hdf(os.path.join(cd, path))\n",
    "  datasetname = df['dataset'][0].upper()\n",
    "  methods = set(list(df['method']))\n",
    "\n",
    "  # loop on methods\n",
    "  for m in methods:\n",
    "    print('   method     :', m)\n",
    "    vals = df[df['method'] == m][metric]\n",
    "    fvideos = df[df['method'] == m]['videoFilename']\n",
    "    x = []\n",
    "    y = []\n",
    "    for i in vals.index:\n",
    "      n = fvideos[i]\n",
    "      n = n[n.rfind('/', 0, n.rfind('/'))+1:n.rfind('/')]\n",
    "      x.append(n)\n",
    "      y.append(vals[i][0])\n",
    "    fig = px.bar(x=x, y=y, title='dataset: ' + datasetname + ' method: ' + m)\n",
    "    fig.update_xaxes(type='category')\n",
    "    fig.show()"
   ]
  },
  {
   "cell_type": "markdown",
   "metadata": {
    "id": "ifxqa2Hu0FAK"
   },
   "source": [
    "This notebook shows the complete **pipeline** that takes a **dataset** as input and computes an **estimation** of **BPMs** using a prespecified set of **rPPG** **methods**.\n",
    "\n",
    "Below are the possible choices for the methods.\n",
    "* **Methods**: `cpu_CHROM`, `cupy_CHROM`, `torch_CHROM`, `cpu_LGI`, `cpu_POS`, `cupy_POS`, `cpu_PBV`, `cpu_PCA`, `cpu_GREEN`, `cpu_OMIT`, `cpu_ICA`, `cpu_SSR`\n",
    "\n",
    "Below are the possible choices for the datasets.\n",
    "* **Datasets**: `PURE`, `UBFC1`, `UBFC2`, `ECG_Fitness_01-1`, `ECG_Fitness_01-2`... `ECG_Fitness_06-1`, `ECG_Fitness_06-2`"
   ]
  },
  {
   "cell_type": "markdown",
   "metadata": {
    "id": "kGQEe3PcaWpV",
    "tags": []
   },
   "source": [
    "# Runs"
   ]
  },
  {
   "cell_type": "code",
   "execution_count": 151,
   "metadata": {
    "id": "tMmWNHdDIUCZ"
   },
   "outputs": [],
   "source": [
    "# run on dataset\n",
    "\n",
    "path_results = \"results/cfg/\" # general path for cfg\n",
    "\n",
    "#dataset = 'PURE'\n",
    "#RUN(dataset, 'holistic')\n",
    "#RUN(dataset, 'median')\n",
    "#RUN(dataset, 'clustering')\n"
   ]
  },
  {
   "cell_type": "markdown",
   "metadata": {
    "id": "vKol1iji8ATk",
    "tags": []
   },
   "source": [
    "# Analisys"
   ]
  },
  {
   "cell_type": "code",
   "execution_count": 152,
   "metadata": {
    "colab": {
     "base_uri": "https://localhost:8080/",
     "height": 791
    },
    "executionInfo": {
     "elapsed": 102,
     "status": "ok",
     "timestamp": 1673690552493,
     "user": {
      "displayName": "Giuliano Grossi",
      "userId": "05046904419500019805"
     },
     "user_tz": -60
    },
    "id": "RYSPWBFc0fFq",
    "outputId": "5a73e799-7a8c-4905-f2f7-7330d21ef96d"
   },
   "outputs": [
    {
     "name": "stdout",
     "output_type": "stream",
     "text": [
      "## Dataset: ECG_Fitness_06-2\n",
      "   Approach: holistic\n",
      "   h5      : ../results/h5/ECG_Fitness_06-2_holistic.h5\n",
      "   cfg     : ../results/h5/ECG_Fitness_06-2_holistic.cfg\n",
      "\n"
     ]
    },
    {
     "data": {
      "application/vnd.plotly.v1+json": {
       "config": {
        "plotlyServerURL": "https://plot.ly"
       },
       "data": [
        {
         "boxpoints": "all",
         "fillcolor": "rgba(175,175,175,0.5)",
         "jitter": 0.7,
         "line": {
          "color": "rgba(0,0,255,0.5)",
          "width": 2
         },
         "marker": {
          "size": 2
         },
         "name": "CHROM",
         "type": "box",
         "y": [
          62.289731439225065,
          21.19568408584041,
          9.514939565290732,
          64.2215504126722,
          77.91317963068808,
          5.703516422249963,
          1.0919109380168448,
          28.874706018988824,
          15.985781898976471,
          43.77532271401217,
          29.82397552252509,
          4.412770757376425,
          13.612754891425547,
          15.54373511046292,
          29.655288108326893,
          40.85308804359231
         ]
        },
        {
         "boxpoints": "all",
         "fillcolor": "rgba(200,200,200,0.5)",
         "jitter": 0.7,
         "line": {
          "color": "rgba(0,0,255,0.5)",
          "width": 2
         },
         "marker": {
          "size": 2
         },
         "name": "ICA",
         "type": "box",
         "y": [
          59.382432783184385,
          39.57260801198734,
          36.228952481280785,
          58.019457252294835,
          75.01686967145676,
          42.82042777140209,
          42.336839362794,
          30.28139665045751,
          32.74501403884265,
          62.04993945929518,
          39.11652606988331,
          18.36948356666032,
          39.47483486837109,
          23.81427078177973,
          28.349964787333114,
          37.06966757411673
         ]
        },
        {
         "boxpoints": "all",
         "fillcolor": "rgba(170,170,170,0.5)",
         "jitter": 0.7,
         "line": {
          "color": "rgba(0,0,255,0.5)",
          "width": 2
         },
         "marker": {
          "size": 2
         },
         "name": "LGI",
         "type": "box",
         "y": [
          63.51688356186658,
          26.99191681176461,
          13.942637088875639,
          56.72513947936597,
          72.60891316746545,
          6.772778148166744,
          2.5512651845168985,
          35.62757929876991,
          21.062830868909835,
          52.78381098690166,
          29.715066375157555,
          7.32127355226226,
          15.104084870293743,
          17.627590593047394,
          13.121416260606201,
          48.45791388112167
         ]
        },
        {
         "boxpoints": "all",
         "fillcolor": "rgba(185,185,185,0.5)",
         "jitter": 0.7,
         "line": {
          "color": "rgba(0,0,255,0.5)",
          "width": 2
         },
         "marker": {
          "size": 2
         },
         "name": "PCA",
         "type": "box",
         "y": [
          49.73693766591242,
          19.029328874794697,
          17.62077989002776,
          65.54820135606842,
          72.18115327994732,
          17.837996017707184,
          0.9790393023577434,
          30.464335621606853,
          23.122360980348123,
          43.82507212438953,
          26.7432668225584,
          12.8809053916247,
          15.619104626766772,
          28.654336546705036,
          42.92567460328316,
          38.551525935114356
         ]
        },
        {
         "boxpoints": "all",
         "fillcolor": "rgba(180,180,180,0.5)",
         "jitter": 0.7,
         "line": {
          "color": "rgba(0,0,255,0.5)",
          "width": 2
         },
         "marker": {
          "size": 2
         },
         "name": "POS",
         "type": "box",
         "y": [
          51.9259117225162,
          41.84621744175639,
          15.104916645102085,
          65.98403930227973,
          66.47655422334354,
          24.207713911876745,
          1.024653893739581,
          28.586689817517378,
          2.144582786440661,
          37.57322955363482,
          26.309654291626746,
          17.384714863480962,
          16.491235616430192,
          17.756064922343178,
          26.276119222371072,
          70.50162302833017
         ]
        }
       ],
       "layout": {
        "autosize": true,
        "font": {
         "color": "rgb(20,20,20)",
         "family": "monospace",
         "size": 16
        },
        "margin": {
         "b": 20,
         "l": 20,
         "r": 10,
         "t": 40
        },
        "paper_bgcolor": "rgb(250, 250, 250)",
        "plot_bgcolor": "rgb(243, 243, 243)",
        "showlegend": false,
        "template": {
         "data": {
          "bar": [
           {
            "error_x": {
             "color": "#2a3f5f"
            },
            "error_y": {
             "color": "#2a3f5f"
            },
            "marker": {
             "line": {
              "color": "#E5ECF6",
              "width": 0.5
             },
             "pattern": {
              "fillmode": "overlay",
              "size": 10,
              "solidity": 0.2
             }
            },
            "type": "bar"
           }
          ],
          "barpolar": [
           {
            "marker": {
             "line": {
              "color": "#E5ECF6",
              "width": 0.5
             },
             "pattern": {
              "fillmode": "overlay",
              "size": 10,
              "solidity": 0.2
             }
            },
            "type": "barpolar"
           }
          ],
          "carpet": [
           {
            "aaxis": {
             "endlinecolor": "#2a3f5f",
             "gridcolor": "white",
             "linecolor": "white",
             "minorgridcolor": "white",
             "startlinecolor": "#2a3f5f"
            },
            "baxis": {
             "endlinecolor": "#2a3f5f",
             "gridcolor": "white",
             "linecolor": "white",
             "minorgridcolor": "white",
             "startlinecolor": "#2a3f5f"
            },
            "type": "carpet"
           }
          ],
          "choropleth": [
           {
            "colorbar": {
             "outlinewidth": 0,
             "ticks": ""
            },
            "type": "choropleth"
           }
          ],
          "contour": [
           {
            "colorbar": {
             "outlinewidth": 0,
             "ticks": ""
            },
            "colorscale": [
             [
              0,
              "#0d0887"
             ],
             [
              0.1111111111111111,
              "#46039f"
             ],
             [
              0.2222222222222222,
              "#7201a8"
             ],
             [
              0.3333333333333333,
              "#9c179e"
             ],
             [
              0.4444444444444444,
              "#bd3786"
             ],
             [
              0.5555555555555556,
              "#d8576b"
             ],
             [
              0.6666666666666666,
              "#ed7953"
             ],
             [
              0.7777777777777778,
              "#fb9f3a"
             ],
             [
              0.8888888888888888,
              "#fdca26"
             ],
             [
              1,
              "#f0f921"
             ]
            ],
            "type": "contour"
           }
          ],
          "contourcarpet": [
           {
            "colorbar": {
             "outlinewidth": 0,
             "ticks": ""
            },
            "type": "contourcarpet"
           }
          ],
          "heatmap": [
           {
            "colorbar": {
             "outlinewidth": 0,
             "ticks": ""
            },
            "colorscale": [
             [
              0,
              "#0d0887"
             ],
             [
              0.1111111111111111,
              "#46039f"
             ],
             [
              0.2222222222222222,
              "#7201a8"
             ],
             [
              0.3333333333333333,
              "#9c179e"
             ],
             [
              0.4444444444444444,
              "#bd3786"
             ],
             [
              0.5555555555555556,
              "#d8576b"
             ],
             [
              0.6666666666666666,
              "#ed7953"
             ],
             [
              0.7777777777777778,
              "#fb9f3a"
             ],
             [
              0.8888888888888888,
              "#fdca26"
             ],
             [
              1,
              "#f0f921"
             ]
            ],
            "type": "heatmap"
           }
          ],
          "heatmapgl": [
           {
            "colorbar": {
             "outlinewidth": 0,
             "ticks": ""
            },
            "colorscale": [
             [
              0,
              "#0d0887"
             ],
             [
              0.1111111111111111,
              "#46039f"
             ],
             [
              0.2222222222222222,
              "#7201a8"
             ],
             [
              0.3333333333333333,
              "#9c179e"
             ],
             [
              0.4444444444444444,
              "#bd3786"
             ],
             [
              0.5555555555555556,
              "#d8576b"
             ],
             [
              0.6666666666666666,
              "#ed7953"
             ],
             [
              0.7777777777777778,
              "#fb9f3a"
             ],
             [
              0.8888888888888888,
              "#fdca26"
             ],
             [
              1,
              "#f0f921"
             ]
            ],
            "type": "heatmapgl"
           }
          ],
          "histogram": [
           {
            "marker": {
             "pattern": {
              "fillmode": "overlay",
              "size": 10,
              "solidity": 0.2
             }
            },
            "type": "histogram"
           }
          ],
          "histogram2d": [
           {
            "colorbar": {
             "outlinewidth": 0,
             "ticks": ""
            },
            "colorscale": [
             [
              0,
              "#0d0887"
             ],
             [
              0.1111111111111111,
              "#46039f"
             ],
             [
              0.2222222222222222,
              "#7201a8"
             ],
             [
              0.3333333333333333,
              "#9c179e"
             ],
             [
              0.4444444444444444,
              "#bd3786"
             ],
             [
              0.5555555555555556,
              "#d8576b"
             ],
             [
              0.6666666666666666,
              "#ed7953"
             ],
             [
              0.7777777777777778,
              "#fb9f3a"
             ],
             [
              0.8888888888888888,
              "#fdca26"
             ],
             [
              1,
              "#f0f921"
             ]
            ],
            "type": "histogram2d"
           }
          ],
          "histogram2dcontour": [
           {
            "colorbar": {
             "outlinewidth": 0,
             "ticks": ""
            },
            "colorscale": [
             [
              0,
              "#0d0887"
             ],
             [
              0.1111111111111111,
              "#46039f"
             ],
             [
              0.2222222222222222,
              "#7201a8"
             ],
             [
              0.3333333333333333,
              "#9c179e"
             ],
             [
              0.4444444444444444,
              "#bd3786"
             ],
             [
              0.5555555555555556,
              "#d8576b"
             ],
             [
              0.6666666666666666,
              "#ed7953"
             ],
             [
              0.7777777777777778,
              "#fb9f3a"
             ],
             [
              0.8888888888888888,
              "#fdca26"
             ],
             [
              1,
              "#f0f921"
             ]
            ],
            "type": "histogram2dcontour"
           }
          ],
          "mesh3d": [
           {
            "colorbar": {
             "outlinewidth": 0,
             "ticks": ""
            },
            "type": "mesh3d"
           }
          ],
          "parcoords": [
           {
            "line": {
             "colorbar": {
              "outlinewidth": 0,
              "ticks": ""
             }
            },
            "type": "parcoords"
           }
          ],
          "pie": [
           {
            "automargin": true,
            "type": "pie"
           }
          ],
          "scatter": [
           {
            "marker": {
             "colorbar": {
              "outlinewidth": 0,
              "ticks": ""
             }
            },
            "type": "scatter"
           }
          ],
          "scatter3d": [
           {
            "line": {
             "colorbar": {
              "outlinewidth": 0,
              "ticks": ""
             }
            },
            "marker": {
             "colorbar": {
              "outlinewidth": 0,
              "ticks": ""
             }
            },
            "type": "scatter3d"
           }
          ],
          "scattercarpet": [
           {
            "marker": {
             "colorbar": {
              "outlinewidth": 0,
              "ticks": ""
             }
            },
            "type": "scattercarpet"
           }
          ],
          "scattergeo": [
           {
            "marker": {
             "colorbar": {
              "outlinewidth": 0,
              "ticks": ""
             }
            },
            "type": "scattergeo"
           }
          ],
          "scattergl": [
           {
            "marker": {
             "colorbar": {
              "outlinewidth": 0,
              "ticks": ""
             }
            },
            "type": "scattergl"
           }
          ],
          "scattermapbox": [
           {
            "marker": {
             "colorbar": {
              "outlinewidth": 0,
              "ticks": ""
             }
            },
            "type": "scattermapbox"
           }
          ],
          "scatterpolar": [
           {
            "marker": {
             "colorbar": {
              "outlinewidth": 0,
              "ticks": ""
             }
            },
            "type": "scatterpolar"
           }
          ],
          "scatterpolargl": [
           {
            "marker": {
             "colorbar": {
              "outlinewidth": 0,
              "ticks": ""
             }
            },
            "type": "scatterpolargl"
           }
          ],
          "scatterternary": [
           {
            "marker": {
             "colorbar": {
              "outlinewidth": 0,
              "ticks": ""
             }
            },
            "type": "scatterternary"
           }
          ],
          "surface": [
           {
            "colorbar": {
             "outlinewidth": 0,
             "ticks": ""
            },
            "colorscale": [
             [
              0,
              "#0d0887"
             ],
             [
              0.1111111111111111,
              "#46039f"
             ],
             [
              0.2222222222222222,
              "#7201a8"
             ],
             [
              0.3333333333333333,
              "#9c179e"
             ],
             [
              0.4444444444444444,
              "#bd3786"
             ],
             [
              0.5555555555555556,
              "#d8576b"
             ],
             [
              0.6666666666666666,
              "#ed7953"
             ],
             [
              0.7777777777777778,
              "#fb9f3a"
             ],
             [
              0.8888888888888888,
              "#fdca26"
             ],
             [
              1,
              "#f0f921"
             ]
            ],
            "type": "surface"
           }
          ],
          "table": [
           {
            "cells": {
             "fill": {
              "color": "#EBF0F8"
             },
             "line": {
              "color": "white"
             }
            },
            "header": {
             "fill": {
              "color": "#C8D4E3"
             },
             "line": {
              "color": "white"
             }
            },
            "type": "table"
           }
          ]
         },
         "layout": {
          "annotationdefaults": {
           "arrowcolor": "#2a3f5f",
           "arrowhead": 0,
           "arrowwidth": 1
          },
          "autotypenumbers": "strict",
          "coloraxis": {
           "colorbar": {
            "outlinewidth": 0,
            "ticks": ""
           }
          },
          "colorscale": {
           "diverging": [
            [
             0,
             "#8e0152"
            ],
            [
             0.1,
             "#c51b7d"
            ],
            [
             0.2,
             "#de77ae"
            ],
            [
             0.3,
             "#f1b6da"
            ],
            [
             0.4,
             "#fde0ef"
            ],
            [
             0.5,
             "#f7f7f7"
            ],
            [
             0.6,
             "#e6f5d0"
            ],
            [
             0.7,
             "#b8e186"
            ],
            [
             0.8,
             "#7fbc41"
            ],
            [
             0.9,
             "#4d9221"
            ],
            [
             1,
             "#276419"
            ]
           ],
           "sequential": [
            [
             0,
             "#0d0887"
            ],
            [
             0.1111111111111111,
             "#46039f"
            ],
            [
             0.2222222222222222,
             "#7201a8"
            ],
            [
             0.3333333333333333,
             "#9c179e"
            ],
            [
             0.4444444444444444,
             "#bd3786"
            ],
            [
             0.5555555555555556,
             "#d8576b"
            ],
            [
             0.6666666666666666,
             "#ed7953"
            ],
            [
             0.7777777777777778,
             "#fb9f3a"
            ],
            [
             0.8888888888888888,
             "#fdca26"
            ],
            [
             1,
             "#f0f921"
            ]
           ],
           "sequentialminus": [
            [
             0,
             "#0d0887"
            ],
            [
             0.1111111111111111,
             "#46039f"
            ],
            [
             0.2222222222222222,
             "#7201a8"
            ],
            [
             0.3333333333333333,
             "#9c179e"
            ],
            [
             0.4444444444444444,
             "#bd3786"
            ],
            [
             0.5555555555555556,
             "#d8576b"
            ],
            [
             0.6666666666666666,
             "#ed7953"
            ],
            [
             0.7777777777777778,
             "#fb9f3a"
            ],
            [
             0.8888888888888888,
             "#fdca26"
            ],
            [
             1,
             "#f0f921"
            ]
           ]
          },
          "colorway": [
           "#636efa",
           "#EF553B",
           "#00cc96",
           "#ab63fa",
           "#FFA15A",
           "#19d3f3",
           "#FF6692",
           "#B6E880",
           "#FF97FF",
           "#FECB52"
          ],
          "font": {
           "color": "#2a3f5f"
          },
          "geo": {
           "bgcolor": "white",
           "lakecolor": "white",
           "landcolor": "#E5ECF6",
           "showlakes": true,
           "showland": true,
           "subunitcolor": "white"
          },
          "hoverlabel": {
           "align": "left"
          },
          "hovermode": "closest",
          "mapbox": {
           "style": "light"
          },
          "paper_bgcolor": "white",
          "plot_bgcolor": "#E5ECF6",
          "polar": {
           "angularaxis": {
            "gridcolor": "white",
            "linecolor": "white",
            "ticks": ""
           },
           "bgcolor": "#E5ECF6",
           "radialaxis": {
            "gridcolor": "white",
            "linecolor": "white",
            "ticks": ""
           }
          },
          "scene": {
           "xaxis": {
            "backgroundcolor": "#E5ECF6",
            "gridcolor": "white",
            "gridwidth": 2,
            "linecolor": "white",
            "showbackground": true,
            "ticks": "",
            "zerolinecolor": "white"
           },
           "yaxis": {
            "backgroundcolor": "#E5ECF6",
            "gridcolor": "white",
            "gridwidth": 2,
            "linecolor": "white",
            "showbackground": true,
            "ticks": "",
            "zerolinecolor": "white"
           },
           "zaxis": {
            "backgroundcolor": "#E5ECF6",
            "gridcolor": "white",
            "gridwidth": 2,
            "linecolor": "white",
            "showbackground": true,
            "ticks": "",
            "zerolinecolor": "white"
           }
          },
          "shapedefaults": {
           "line": {
            "color": "#2a3f5f"
           }
          },
          "ternary": {
           "aaxis": {
            "gridcolor": "white",
            "linecolor": "white",
            "ticks": ""
           },
           "baxis": {
            "gridcolor": "white",
            "linecolor": "white",
            "ticks": ""
           },
           "bgcolor": "#E5ECF6",
           "caxis": {
            "gridcolor": "white",
            "linecolor": "white",
            "ticks": ""
           }
          },
          "title": {
           "x": 0.05
          },
          "xaxis": {
           "automargin": true,
           "gridcolor": "white",
           "linecolor": "white",
           "ticks": "",
           "title": {
            "standoff": 15
           },
           "zerolinecolor": "white",
           "zerolinewidth": 2
          },
          "yaxis": {
           "automargin": true,
           "gridcolor": "white",
           "linecolor": "white",
           "ticks": "",
           "title": {
            "standoff": 15
           },
           "zerolinecolor": "white",
           "zerolinewidth": 2
          }
         }
        },
        "title": {
         "text": "Metric: MAE"
        },
        "xaxis": {
         "autorange": true,
         "range": [
          -0.824245365756428,
          4.7802234403029695
         ],
         "type": "category"
        },
        "yaxis": {
         "autorange": true,
         "gridcolor": "rgb(255,255,255)",
         "gridwidth": 0.1,
         "range": [
          -0.11480047371897105,
          1.9972115283368115
         ],
         "showgrid": true,
         "title": {
          "font": {
           "size": 30
          }
         },
         "type": "log",
         "zeroline": true,
         "zerolinewidth": 2
        }
       }
      },
      "image/png": "[encoded data removed]"
     },
     "metadata": {},
     "output_type": "display_data"
    },
    {
     "name": "stdout",
     "output_type": "stream",
     "text": [
      "\n",
      "** Stats table **\n",
      "      MEANS    STD  MEDIANS\n",
      "MAE   32.85  20.55    29.26\n",
      "RMSE  40.14  19.67    37.51\n",
      "PCC    0.16   0.32     0.10\n",
      "CCC    0.09   0.23     0.01\n",
      "SNR   -5.41   3.99    -5.02\n",
      "MAX   75.90  25.22    74.93\n"
     ]
    }
   ],
   "source": [
    "## -- Holistic\n",
    "\n",
    "path_results = \"../results/h5/\" # general path for cfg# general path for data\n",
    "\n",
    "dataset = 'ECG_Fitness_06-2'\n",
    "ANALYSIS(dataset, 'holistic', metrics=['MAE'])\n",
    "STATS(dataset, approach='holistic')"
   ]
  },
  {
   "cell_type": "code",
   "execution_count": 153,
   "metadata": {
    "colab": {
     "base_uri": "https://localhost:8080/",
     "height": 791
    },
    "executionInfo": {
     "elapsed": 99,
     "status": "ok",
     "timestamp": 1673690558180,
     "user": {
      "displayName": "Giuliano Grossi",
      "userId": "05046904419500019805"
     },
     "user_tz": -60
    },
    "id": "sINByvTtSc5i",
    "outputId": "8a987740-0cf1-43e5-dda0-4239f8db3326"
   },
   "outputs": [
    {
     "name": "stdout",
     "output_type": "stream",
     "text": [
      "## Dataset: ECG_Fitness_06-2\n",
      "   Approach: median\n",
      "   h5      : ../results/h5/ECG_Fitness_06-2_median.h5\n",
      "   cfg     : ../results/h5/ECG_Fitness_06-2_median.cfg\n",
      "\n"
     ]
    },
    {
     "data": {
      "application/vnd.plotly.v1+json": {
       "config": {
        "plotlyServerURL": "https://plot.ly"
       },
       "data": [
        {
         "boxpoints": "all",
         "fillcolor": "rgba(200,200,200,0.5)",
         "jitter": 0.7,
         "line": {
          "color": "rgba(0,0,255,0.5)",
          "width": 2
         },
         "marker": {
          "size": 2
         },
         "name": "CHROM",
         "type": "box",
         "y": [
          55.48235378592318,
          39.950303074082974,
          44.56035875036026,
          60.44059522399295,
          75.69677827994732,
          52.7573843012662,
          2.9934467641903533,
          26.664142212771363,
          33.695236724643344,
          75.10915968335178,
          43.53673141735529,
          6.159639340629037,
          11.60152482661095,
          21.050296679392506,
          19.78693380118433,
          33.30446853723088
         ]
        },
        {
         "boxpoints": "all",
         "fillcolor": "rgba(200,200,200,0.5)",
         "jitter": 0.7,
         "line": {
          "color": "rgba(0,0,255,0.5)",
          "width": 2
         },
         "marker": {
          "size": 2
         },
         "name": "ICA",
         "type": "box",
         "y": [
          55.12254996945662,
          46.68305661181883,
          45.62997107347346,
          63.326061025879746,
          80.45613853938129,
          53.76895564560582,
          70.41005451114624,
          29.50382355665696,
          37.06161349351127,
          65.2587764286348,
          46.48023819801567,
          6.351186230343327,
          12.704303423309064,
          27.64209355439251,
          32.047357561874044,
          32.064460154383305
         ]
        },
        {
         "boxpoints": "all",
         "fillcolor": "rgba(200,200,200,0.5)",
         "jitter": 0.7,
         "line": {
          "color": "rgba(0,0,255,0.5)",
          "width": 2
         },
         "marker": {
          "size": 2
         },
         "name": "LGI",
         "type": "box",
         "y": [
          56.17557915577738,
          29.26247141134713,
          45.13247696969988,
          59.752395047106155,
          78.65686819740016,
          52.70763489088884,
          9.05978994728062,
          30.921665035507058,
          35.65204686615277,
          72.76264582721971,
          44.61463530886473,
          6.177063294022572,
          11.269862090761894,
          24.109885417600054,
          11.827306161526908,
          33.2455229358194
         ]
        },
        {
         "boxpoints": "all",
         "fillcolor": "rgba(200,200,200,0.5)",
         "jitter": 0.7,
         "line": {
          "color": "rgba(0,0,255,0.5)",
          "width": 2
         },
         "marker": {
          "size": 2
         },
         "name": "PCA",
         "type": "box",
         "y": [
          55.47383769313293,
          37.446249418422596,
          44.42769365602064,
          63.583099646162765,
          71.6090350606077,
          53.59483270928507,
          29.500447586126715,
          37.460843474434,
          37.84931249115277,
          72.72118798523857,
          46.3641562404685,
          6.054807181960168,
          11.443985027082649,
          25.129748330335904,
          38.63364699718099,
          36.47189779012885
         ]
        },
        {
         "boxpoints": "all",
         "fillcolor": "rgba(200,200,200,0.5)",
         "jitter": 0.7,
         "line": {
          "color": "rgba(0,0,255,0.5)",
          "width": 2
         },
         "marker": {
          "size": 2
         },
         "name": "POS",
         "type": "box",
         "y": [
          40.66418662676986,
          57.10555808587543,
          46.334754387152714,
          62.389113797106155,
          73.42488853938129,
          53.34608565739828,
          3.118654647070734,
          25.84308891768834,
          30.06208161311613,
          57.116456263540464,
          45.360876464525106,
          6.186631459698709,
          12.977925180384535,
          22.91308129784836,
          11.447187132486844,
          51.876049652396645
         ]
        }
       ],
       "layout": {
        "autosize": true,
        "font": {
         "color": "rgb(20,20,20)",
         "family": "monospace",
         "size": 16
        },
        "margin": {
         "b": 20,
         "l": 20,
         "r": 10,
         "t": 40
        },
        "paper_bgcolor": "rgb(250, 250, 250)",
        "plot_bgcolor": "rgb(243, 243, 243)",
        "showlegend": false,
        "template": {
         "data": {
          "bar": [
           {
            "error_x": {
             "color": "#2a3f5f"
            },
            "error_y": {
             "color": "#2a3f5f"
            },
            "marker": {
             "line": {
              "color": "#E5ECF6",
              "width": 0.5
             },
             "pattern": {
              "fillmode": "overlay",
              "size": 10,
              "solidity": 0.2
             }
            },
            "type": "bar"
           }
          ],
          "barpolar": [
           {
            "marker": {
             "line": {
              "color": "#E5ECF6",
              "width": 0.5
             },
             "pattern": {
              "fillmode": "overlay",
              "size": 10,
              "solidity": 0.2
             }
            },
            "type": "barpolar"
           }
          ],
          "carpet": [
           {
            "aaxis": {
             "endlinecolor": "#2a3f5f",
             "gridcolor": "white",
             "linecolor": "white",
             "minorgridcolor": "white",
             "startlinecolor": "#2a3f5f"
            },
            "baxis": {
             "endlinecolor": "#2a3f5f",
             "gridcolor": "white",
             "linecolor": "white",
             "minorgridcolor": "white",
             "startlinecolor": "#2a3f5f"
            },
            "type": "carpet"
           }
          ],
          "choropleth": [
           {
            "colorbar": {
             "outlinewidth": 0,
             "ticks": ""
            },
            "type": "choropleth"
           }
          ],
          "contour": [
           {
            "colorbar": {
             "outlinewidth": 0,
             "ticks": ""
            },
            "colorscale": [
             [
              0,
              "#0d0887"
             ],
             [
              0.1111111111111111,
              "#46039f"
             ],
             [
              0.2222222222222222,
              "#7201a8"
             ],
             [
              0.3333333333333333,
              "#9c179e"
             ],
             [
              0.4444444444444444,
              "#bd3786"
             ],
             [
              0.5555555555555556,
              "#d8576b"
             ],
             [
              0.6666666666666666,
              "#ed7953"
             ],
             [
              0.7777777777777778,
              "#fb9f3a"
             ],
             [
              0.8888888888888888,
              "#fdca26"
             ],
             [
              1,
              "#f0f921"
             ]
            ],
            "type": "contour"
           }
          ],
          "contourcarpet": [
           {
            "colorbar": {
             "outlinewidth": 0,
             "ticks": ""
            },
            "type": "contourcarpet"
           }
          ],
          "heatmap": [
           {
            "colorbar": {
             "outlinewidth": 0,
             "ticks": ""
            },
            "colorscale": [
             [
              0,
              "#0d0887"
             ],
             [
              0.1111111111111111,
              "#46039f"
             ],
             [
              0.2222222222222222,
              "#7201a8"
             ],
             [
              0.3333333333333333,
              "#9c179e"
             ],
             [
              0.4444444444444444,
              "#bd3786"
             ],
             [
              0.5555555555555556,
              "#d8576b"
             ],
             [
              0.6666666666666666,
              "#ed7953"
             ],
             [
              0.7777777777777778,
              "#fb9f3a"
             ],
             [
              0.8888888888888888,
              "#fdca26"
             ],
             [
              1,
              "#f0f921"
             ]
            ],
            "type": "heatmap"
           }
          ],
          "heatmapgl": [
           {
            "colorbar": {
             "outlinewidth": 0,
             "ticks": ""
            },
            "colorscale": [
             [
              0,
              "#0d0887"
             ],
             [
              0.1111111111111111,
              "#46039f"
             ],
             [
              0.2222222222222222,
              "#7201a8"
             ],
             [
              0.3333333333333333,
              "#9c179e"
             ],
             [
              0.4444444444444444,
              "#bd3786"
             ],
             [
              0.5555555555555556,
              "#d8576b"
             ],
             [
              0.6666666666666666,
              "#ed7953"
             ],
             [
              0.7777777777777778,
              "#fb9f3a"
             ],
             [
              0.8888888888888888,
              "#fdca26"
             ],
             [
              1,
              "#f0f921"
             ]
            ],
            "type": "heatmapgl"
           }
          ],
          "histogram": [
           {
            "marker": {
             "pattern": {
              "fillmode": "overlay",
              "size": 10,
              "solidity": 0.2
             }
            },
            "type": "histogram"
           }
          ],
          "histogram2d": [
           {
            "colorbar": {
             "outlinewidth": 0,
             "ticks": ""
            },
            "colorscale": [
             [
              0,
              "#0d0887"
             ],
             [
              0.1111111111111111,
              "#46039f"
             ],
             [
              0.2222222222222222,
              "#7201a8"
             ],
             [
              0.3333333333333333,
              "#9c179e"
             ],
             [
              0.4444444444444444,
              "#bd3786"
             ],
             [
              0.5555555555555556,
              "#d8576b"
             ],
             [
              0.6666666666666666,
              "#ed7953"
             ],
             [
              0.7777777777777778,
              "#fb9f3a"
             ],
             [
              0.8888888888888888,
              "#fdca26"
             ],
             [
              1,
              "#f0f921"
             ]
            ],
            "type": "histogram2d"
           }
          ],
          "histogram2dcontour": [
           {
            "colorbar": {
             "outlinewidth": 0,
             "ticks": ""
            },
            "colorscale": [
             [
              0,
              "#0d0887"
             ],
             [
              0.1111111111111111,
              "#46039f"
             ],
             [
              0.2222222222222222,
              "#7201a8"
             ],
             [
              0.3333333333333333,
              "#9c179e"
             ],
             [
              0.4444444444444444,
              "#bd3786"
             ],
             [
              0.5555555555555556,
              "#d8576b"
             ],
             [
              0.6666666666666666,
              "#ed7953"
             ],
             [
              0.7777777777777778,
              "#fb9f3a"
             ],
             [
              0.8888888888888888,
              "#fdca26"
             ],
             [
              1,
              "#f0f921"
             ]
            ],
            "type": "histogram2dcontour"
           }
          ],
          "mesh3d": [
           {
            "colorbar": {
             "outlinewidth": 0,
             "ticks": ""
            },
            "type": "mesh3d"
           }
          ],
          "parcoords": [
           {
            "line": {
             "colorbar": {
              "outlinewidth": 0,
              "ticks": ""
             }
            },
            "type": "parcoords"
           }
          ],
          "pie": [
           {
            "automargin": true,
            "type": "pie"
           }
          ],
          "scatter": [
           {
            "marker": {
             "colorbar": {
              "outlinewidth": 0,
              "ticks": ""
             }
            },
            "type": "scatter"
           }
          ],
          "scatter3d": [
           {
            "line": {
             "colorbar": {
              "outlinewidth": 0,
              "ticks": ""
             }
            },
            "marker": {
             "colorbar": {
              "outlinewidth": 0,
              "ticks": ""
             }
            },
            "type": "scatter3d"
           }
          ],
          "scattercarpet": [
           {
            "marker": {
             "colorbar": {
              "outlinewidth": 0,
              "ticks": ""
             }
            },
            "type": "scattercarpet"
           }
          ],
          "scattergeo": [
           {
            "marker": {
             "colorbar": {
              "outlinewidth": 0,
              "ticks": ""
             }
            },
            "type": "scattergeo"
           }
          ],
          "scattergl": [
           {
            "marker": {
             "colorbar": {
              "outlinewidth": 0,
              "ticks": ""
             }
            },
            "type": "scattergl"
           }
          ],
          "scattermapbox": [
           {
            "marker": {
             "colorbar": {
              "outlinewidth": 0,
              "ticks": ""
             }
            },
            "type": "scattermapbox"
           }
          ],
          "scatterpolar": [
           {
            "marker": {
             "colorbar": {
              "outlinewidth": 0,
              "ticks": ""
             }
            },
            "type": "scatterpolar"
           }
          ],
          "scatterpolargl": [
           {
            "marker": {
             "colorbar": {
              "outlinewidth": 0,
              "ticks": ""
             }
            },
            "type": "scatterpolargl"
           }
          ],
          "scatterternary": [
           {
            "marker": {
             "colorbar": {
              "outlinewidth": 0,
              "ticks": ""
             }
            },
            "type": "scatterternary"
           }
          ],
          "surface": [
           {
            "colorbar": {
             "outlinewidth": 0,
             "ticks": ""
            },
            "colorscale": [
             [
              0,
              "#0d0887"
             ],
             [
              0.1111111111111111,
              "#46039f"
             ],
             [
              0.2222222222222222,
              "#7201a8"
             ],
             [
              0.3333333333333333,
              "#9c179e"
             ],
             [
              0.4444444444444444,
              "#bd3786"
             ],
             [
              0.5555555555555556,
              "#d8576b"
             ],
             [
              0.6666666666666666,
              "#ed7953"
             ],
             [
              0.7777777777777778,
              "#fb9f3a"
             ],
             [
              0.8888888888888888,
              "#fdca26"
             ],
             [
              1,
              "#f0f921"
             ]
            ],
            "type": "surface"
           }
          ],
          "table": [
           {
            "cells": {
             "fill": {
              "color": "#EBF0F8"
             },
             "line": {
              "color": "white"
             }
            },
            "header": {
             "fill": {
              "color": "#C8D4E3"
             },
             "line": {
              "color": "white"
             }
            },
            "type": "table"
           }
          ]
         },
         "layout": {
          "annotationdefaults": {
           "arrowcolor": "#2a3f5f",
           "arrowhead": 0,
           "arrowwidth": 1
          },
          "autotypenumbers": "strict",
          "coloraxis": {
           "colorbar": {
            "outlinewidth": 0,
            "ticks": ""
           }
          },
          "colorscale": {
           "diverging": [
            [
             0,
             "#8e0152"
            ],
            [
             0.1,
             "#c51b7d"
            ],
            [
             0.2,
             "#de77ae"
            ],
            [
             0.3,
             "#f1b6da"
            ],
            [
             0.4,
             "#fde0ef"
            ],
            [
             0.5,
             "#f7f7f7"
            ],
            [
             0.6,
             "#e6f5d0"
            ],
            [
             0.7,
             "#b8e186"
            ],
            [
             0.8,
             "#7fbc41"
            ],
            [
             0.9,
             "#4d9221"
            ],
            [
             1,
             "#276419"
            ]
           ],
           "sequential": [
            [
             0,
             "#0d0887"
            ],
            [
             0.1111111111111111,
             "#46039f"
            ],
            [
             0.2222222222222222,
             "#7201a8"
            ],
            [
             0.3333333333333333,
             "#9c179e"
            ],
            [
             0.4444444444444444,
             "#bd3786"
            ],
            [
             0.5555555555555556,
             "#d8576b"
            ],
            [
             0.6666666666666666,
             "#ed7953"
            ],
            [
             0.7777777777777778,
             "#fb9f3a"
            ],
            [
             0.8888888888888888,
             "#fdca26"
            ],
            [
             1,
             "#f0f921"
            ]
           ],
           "sequentialminus": [
            [
             0,
             "#0d0887"
            ],
            [
             0.1111111111111111,
             "#46039f"
            ],
            [
             0.2222222222222222,
             "#7201a8"
            ],
            [
             0.3333333333333333,
             "#9c179e"
            ],
            [
             0.4444444444444444,
             "#bd3786"
            ],
            [
             0.5555555555555556,
             "#d8576b"
            ],
            [
             0.6666666666666666,
             "#ed7953"
            ],
            [
             0.7777777777777778,
             "#fb9f3a"
            ],
            [
             0.8888888888888888,
             "#fdca26"
            ],
            [
             1,
             "#f0f921"
            ]
           ]
          },
          "colorway": [
           "#636efa",
           "#EF553B",
           "#00cc96",
           "#ab63fa",
           "#FFA15A",
           "#19d3f3",
           "#FF6692",
           "#B6E880",
           "#FF97FF",
           "#FECB52"
          ],
          "font": {
           "color": "#2a3f5f"
          },
          "geo": {
           "bgcolor": "white",
           "lakecolor": "white",
           "landcolor": "#E5ECF6",
           "showlakes": true,
           "showland": true,
           "subunitcolor": "white"
          },
          "hoverlabel": {
           "align": "left"
          },
          "hovermode": "closest",
          "mapbox": {
           "style": "light"
          },
          "paper_bgcolor": "white",
          "plot_bgcolor": "#E5ECF6",
          "polar": {
           "angularaxis": {
            "gridcolor": "white",
            "linecolor": "white",
            "ticks": ""
           },
           "bgcolor": "#E5ECF6",
           "radialaxis": {
            "gridcolor": "white",
            "linecolor": "white",
            "ticks": ""
           }
          },
          "scene": {
           "xaxis": {
            "backgroundcolor": "#E5ECF6",
            "gridcolor": "white",
            "gridwidth": 2,
            "linecolor": "white",
            "showbackground": true,
            "ticks": "",
            "zerolinecolor": "white"
           },
           "yaxis": {
            "backgroundcolor": "#E5ECF6",
            "gridcolor": "white",
            "gridwidth": 2,
            "linecolor": "white",
            "showbackground": true,
            "ticks": "",
            "zerolinecolor": "white"
           },
           "zaxis": {
            "backgroundcolor": "#E5ECF6",
            "gridcolor": "white",
            "gridwidth": 2,
            "linecolor": "white",
            "showbackground": true,
            "ticks": "",
            "zerolinecolor": "white"
           }
          },
          "shapedefaults": {
           "line": {
            "color": "#2a3f5f"
           }
          },
          "ternary": {
           "aaxis": {
            "gridcolor": "white",
            "linecolor": "white",
            "ticks": ""
           },
           "baxis": {
            "gridcolor": "white",
            "linecolor": "white",
            "ticks": ""
           },
           "bgcolor": "#E5ECF6",
           "caxis": {
            "gridcolor": "white",
            "linecolor": "white",
            "ticks": ""
           }
          },
          "title": {
           "x": 0.05
          },
          "xaxis": {
           "automargin": true,
           "gridcolor": "white",
           "linecolor": "white",
           "ticks": "",
           "title": {
            "standoff": 15
           },
           "zerolinecolor": "white",
           "zerolinewidth": 2
          },
          "yaxis": {
           "automargin": true,
           "gridcolor": "white",
           "linecolor": "white",
           "ticks": "",
           "title": {
            "standoff": 15
           },
           "zerolinecolor": "white",
           "zerolinewidth": 2
          }
         }
        },
        "title": {
         "text": "Metric: MAE"
        },
        "xaxis": {
         "autorange": true,
         "range": [
          -0.824245365756428,
          4.7802234403029695
         ],
         "type": "category"
        },
        "yaxis": {
         "autorange": true,
         "gridcolor": "rgb(255,255,255)",
         "gridwidth": 0.1,
         "range": [
          0.3967611142319137,
          1.9849696097174239
         ],
         "showgrid": true,
         "title": {
          "font": {
           "size": 30
          }
         },
         "type": "log",
         "zeroline": true,
         "zerolinewidth": 2
        }
       }
      },
      "image/png": "[encoded data removed]"
     },
     "metadata": {},
     "output_type": "display_data"
    },
    {
     "name": "stdout",
     "output_type": "stream",
     "text": [
      "\n",
      "** Stats table **\n",
      "      MEANS    STD  MEDIANS\n",
      "MAE   39.71  20.93    39.29\n",
      "RMSE  42.32  20.54    43.22\n",
      "PCC    0.15   0.38     0.18\n",
      "CCC    0.06   0.15     0.00\n",
      "SNR   -6.94   3.25    -6.76\n",
      "MAX   63.04  24.92    61.58\n"
     ]
    }
   ],
   "source": [
    "## -- Median\n",
    "ANALYSIS(dataset, 'median', metrics=['MAE'])\n",
    "STATS(dataset, approach='median')"
   ]
  },
  {
   "cell_type": "code",
   "execution_count": 154,
   "metadata": {
    "colab": {
     "base_uri": "https://localhost:8080/",
     "height": 791
    },
    "executionInfo": {
     "elapsed": 97,
     "status": "ok",
     "timestamp": 1673690561348,
     "user": {
      "displayName": "Giuliano Grossi",
      "userId": "05046904419500019805"
     },
     "user_tz": -60
    },
    "id": "_Fn907kNXNHX",
    "outputId": "dfd2a04b-d019-46b1-fac5-5db180f2a977"
   },
   "outputs": [
    {
     "name": "stdout",
     "output_type": "stream",
     "text": [
      "## Dataset: ECG_Fitness_06-2\n",
      "   Approach: clustering\n",
      "   h5      : ../results/h5/ECG_Fitness_06-2_clustering.h5\n",
      "   cfg     : ../results/h5/ECG_Fitness_06-2_clustering.cfg\n",
      "\n"
     ]
    },
    {
     "data": {
      "application/vnd.plotly.v1+json": {
       "config": {
        "plotlyServerURL": "https://plot.ly"
       },
       "data": [
        {
         "boxpoints": "all",
         "fillcolor": "rgba(160,160,160,0.5)",
         "jitter": 0.7,
         "line": {
          "color": "rgba(0,0,255,0.5)",
          "width": 2
         },
         "marker": {
          "size": 2
         },
         "name": "CHROM",
         "type": "box",
         "y": [
          59.81274069856187,
          48.65644989012071,
          11.958454256227375,
          53.085974056540124,
          63.86471017853223,
          1.4724015201191438,
          1.925928417458287,
          18.911550006716926,
          27.79420964539043,
          75.3734534259815,
          0.7241977402483712,
          3.957596987003567,
          2.124834927490437,
          8.288612596503565,
          28.261014956514202,
          25.730288871388215
         ]
        },
        {
         "boxpoints": "all",
         "fillcolor": "rgba(200,200,200,0.5)",
         "jitter": 0.7,
         "line": {
          "color": "rgba(0,0,255,0.5)",
          "width": 2
         },
         "marker": {
          "size": 2
         },
         "name": "ICA",
         "type": "box",
         "y": [
          45.44214386686228,
          49.543647708516936,
          51.257615293884086,
          53.53371874993635,
          69.71855746626808,
          62.42548246307155,
          1.9167084499602034,
          35.2198775155431,
          29.104559365768885,
          64.28244424997914,
          3.862508204897224,
          5.126076486762415,
          19.836465012479444,
          32.501989080630715,
          25.202908356158076,
          28.15606733938416
         ]
        },
        {
         "boxpoints": "all",
         "fillcolor": "rgba(200,200,200,0.5)",
         "jitter": 0.7,
         "line": {
          "color": "rgba(0,0,255,0.5)",
          "width": 2
         },
         "marker": {
          "size": 2
         },
         "name": "LGI",
         "type": "box",
         "y": [
          55.21610002173957,
          40.977030741724064,
          36.86868509427417,
          53.450803065974085,
          81.96934977169263,
          1.4263677338826797,
          1.9567573806808964,
          35.22818340704792,
          31.106733822894906,
          66.83210153181876,
          0.989937105831343,
          3.9222886102243404,
          2.1903474549764046,
          20.811496169180256,
          4.9917723372797385,
          47.36933230554607
         ]
        },
        {
         "boxpoints": "all",
         "fillcolor": "rgba(200,200,200,0.5)",
         "jitter": 0.7,
         "line": {
          "color": "rgba(0,0,255,0.5)",
          "width": 2
         },
         "marker": {
          "size": 2
         },
         "name": "PCA",
         "type": "box",
         "y": [
          47.70159625483398,
          49.141506641299955,
          45.854879866221104,
          57.140551002294835,
          62.99409549692845,
          3.027382109546517,
          1.7534431138292166,
          35.95615720108536,
          26.53034615299853,
          70.71877421754989,
          2.0937916376627785,
          5.023412290465129,
          2.3069945446443465,
          24.196936608351127,
          31.4893038016919,
          43.95534939628912
         ]
        },
        {
         "boxpoints": "all",
         "fillcolor": "rgba(165,165,165,0.5)",
         "jitter": 0.7,
         "line": {
          "color": "rgba(0,0,255,0.5)",
          "width": 2
         },
         "marker": {
          "size": 2
         },
         "name": "POS",
         "type": "box",
         "y": [
          43.103921579126435,
          61.59958815663015,
          25.750307281347848,
          59.16162079887503,
          82.59743607770677,
          2.0321632687638234,
          1.9710717738910102,
          9.750370561757546,
          21.797919111326344,
          62.78788904655933,
          1.6566649113045977,
          3.743280106272785,
          7.5627033119188205,
          39.363410307091144,
          6.3261043462585,
          57.175469440079404
         ]
        }
       ],
       "layout": {
        "autosize": true,
        "font": {
         "color": "rgb(20,20,20)",
         "family": "monospace",
         "size": 16
        },
        "margin": {
         "b": 20,
         "l": 20,
         "r": 10,
         "t": 40
        },
        "paper_bgcolor": "rgb(250, 250, 250)",
        "plot_bgcolor": "rgb(243, 243, 243)",
        "showlegend": false,
        "template": {
         "data": {
          "bar": [
           {
            "error_x": {
             "color": "#2a3f5f"
            },
            "error_y": {
             "color": "#2a3f5f"
            },
            "marker": {
             "line": {
              "color": "#E5ECF6",
              "width": 0.5
             },
             "pattern": {
              "fillmode": "overlay",
              "size": 10,
              "solidity": 0.2
             }
            },
            "type": "bar"
           }
          ],
          "barpolar": [
           {
            "marker": {
             "line": {
              "color": "#E5ECF6",
              "width": 0.5
             },
             "pattern": {
              "fillmode": "overlay",
              "size": 10,
              "solidity": 0.2
             }
            },
            "type": "barpolar"
           }
          ],
          "carpet": [
           {
            "aaxis": {
             "endlinecolor": "#2a3f5f",
             "gridcolor": "white",
             "linecolor": "white",
             "minorgridcolor": "white",
             "startlinecolor": "#2a3f5f"
            },
            "baxis": {
             "endlinecolor": "#2a3f5f",
             "gridcolor": "white",
             "linecolor": "white",
             "minorgridcolor": "white",
             "startlinecolor": "#2a3f5f"
            },
            "type": "carpet"
           }
          ],
          "choropleth": [
           {
            "colorbar": {
             "outlinewidth": 0,
             "ticks": ""
            },
            "type": "choropleth"
           }
          ],
          "contour": [
           {
            "colorbar": {
             "outlinewidth": 0,
             "ticks": ""
            },
            "colorscale": [
             [
              0,
              "#0d0887"
             ],
             [
              0.1111111111111111,
              "#46039f"
             ],
             [
              0.2222222222222222,
              "#7201a8"
             ],
             [
              0.3333333333333333,
              "#9c179e"
             ],
             [
              0.4444444444444444,
              "#bd3786"
             ],
             [
              0.5555555555555556,
              "#d8576b"
             ],
             [
              0.6666666666666666,
              "#ed7953"
             ],
             [
              0.7777777777777778,
              "#fb9f3a"
             ],
             [
              0.8888888888888888,
              "#fdca26"
             ],
             [
              1,
              "#f0f921"
             ]
            ],
            "type": "contour"
           }
          ],
          "contourcarpet": [
           {
            "colorbar": {
             "outlinewidth": 0,
             "ticks": ""
            },
            "type": "contourcarpet"
           }
          ],
          "heatmap": [
           {
            "colorbar": {
             "outlinewidth": 0,
             "ticks": ""
            },
            "colorscale": [
             [
              0,
              "#0d0887"
             ],
             [
              0.1111111111111111,
              "#46039f"
             ],
             [
              0.2222222222222222,
              "#7201a8"
             ],
             [
              0.3333333333333333,
              "#9c179e"
             ],
             [
              0.4444444444444444,
              "#bd3786"
             ],
             [
              0.5555555555555556,
              "#d8576b"
             ],
             [
              0.6666666666666666,
              "#ed7953"
             ],
             [
              0.7777777777777778,
              "#fb9f3a"
             ],
             [
              0.8888888888888888,
              "#fdca26"
             ],
             [
              1,
              "#f0f921"
             ]
            ],
            "type": "heatmap"
           }
          ],
          "heatmapgl": [
           {
            "colorbar": {
             "outlinewidth": 0,
             "ticks": ""
            },
            "colorscale": [
             [
              0,
              "#0d0887"
             ],
             [
              0.1111111111111111,
              "#46039f"
             ],
             [
              0.2222222222222222,
              "#7201a8"
             ],
             [
              0.3333333333333333,
              "#9c179e"
             ],
             [
              0.4444444444444444,
              "#bd3786"
             ],
             [
              0.5555555555555556,
              "#d8576b"
             ],
             [
              0.6666666666666666,
              "#ed7953"
             ],
             [
              0.7777777777777778,
              "#fb9f3a"
             ],
             [
              0.8888888888888888,
              "#fdca26"
             ],
             [
              1,
              "#f0f921"
             ]
            ],
            "type": "heatmapgl"
           }
          ],
          "histogram": [
           {
            "marker": {
             "pattern": {
              "fillmode": "overlay",
              "size": 10,
              "solidity": 0.2
             }
            },
            "type": "histogram"
           }
          ],
          "histogram2d": [
           {
            "colorbar": {
             "outlinewidth": 0,
             "ticks": ""
            },
            "colorscale": [
             [
              0,
              "#0d0887"
             ],
             [
              0.1111111111111111,
              "#46039f"
             ],
             [
              0.2222222222222222,
              "#7201a8"
             ],
             [
              0.3333333333333333,
              "#9c179e"
             ],
             [
              0.4444444444444444,
              "#bd3786"
             ],
             [
              0.5555555555555556,
              "#d8576b"
             ],
             [
              0.6666666666666666,
              "#ed7953"
             ],
             [
              0.7777777777777778,
              "#fb9f3a"
             ],
             [
              0.8888888888888888,
              "#fdca26"
             ],
             [
              1,
              "#f0f921"
             ]
            ],
            "type": "histogram2d"
           }
          ],
          "histogram2dcontour": [
           {
            "colorbar": {
             "outlinewidth": 0,
             "ticks": ""
            },
            "colorscale": [
             [
              0,
              "#0d0887"
             ],
             [
              0.1111111111111111,
              "#46039f"
             ],
             [
              0.2222222222222222,
              "#7201a8"
             ],
             [
              0.3333333333333333,
              "#9c179e"
             ],
             [
              0.4444444444444444,
              "#bd3786"
             ],
             [
              0.5555555555555556,
              "#d8576b"
             ],
             [
              0.6666666666666666,
              "#ed7953"
             ],
             [
              0.7777777777777778,
              "#fb9f3a"
             ],
             [
              0.8888888888888888,
              "#fdca26"
             ],
             [
              1,
              "#f0f921"
             ]
            ],
            "type": "histogram2dcontour"
           }
          ],
          "mesh3d": [
           {
            "colorbar": {
             "outlinewidth": 0,
             "ticks": ""
            },
            "type": "mesh3d"
           }
          ],
          "parcoords": [
           {
            "line": {
             "colorbar": {
              "outlinewidth": 0,
              "ticks": ""
             }
            },
            "type": "parcoords"
           }
          ],
          "pie": [
           {
            "automargin": true,
            "type": "pie"
           }
          ],
          "scatter": [
           {
            "marker": {
             "colorbar": {
              "outlinewidth": 0,
              "ticks": ""
             }
            },
            "type": "scatter"
           }
          ],
          "scatter3d": [
           {
            "line": {
             "colorbar": {
              "outlinewidth": 0,
              "ticks": ""
             }
            },
            "marker": {
             "colorbar": {
              "outlinewidth": 0,
              "ticks": ""
             }
            },
            "type": "scatter3d"
           }
          ],
          "scattercarpet": [
           {
            "marker": {
             "colorbar": {
              "outlinewidth": 0,
              "ticks": ""
             }
            },
            "type": "scattercarpet"
           }
          ],
          "scattergeo": [
           {
            "marker": {
             "colorbar": {
              "outlinewidth": 0,
              "ticks": ""
             }
            },
            "type": "scattergeo"
           }
          ],
          "scattergl": [
           {
            "marker": {
             "colorbar": {
              "outlinewidth": 0,
              "ticks": ""
             }
            },
            "type": "scattergl"
           }
          ],
          "scattermapbox": [
           {
            "marker": {
             "colorbar": {
              "outlinewidth": 0,
              "ticks": ""
             }
            },
            "type": "scattermapbox"
           }
          ],
          "scatterpolar": [
           {
            "marker": {
             "colorbar": {
              "outlinewidth": 0,
              "ticks": ""
             }
            },
            "type": "scatterpolar"
           }
          ],
          "scatterpolargl": [
           {
            "marker": {
             "colorbar": {
              "outlinewidth": 0,
              "ticks": ""
             }
            },
            "type": "scatterpolargl"
           }
          ],
          "scatterternary": [
           {
            "marker": {
             "colorbar": {
              "outlinewidth": 0,
              "ticks": ""
             }
            },
            "type": "scatterternary"
           }
          ],
          "surface": [
           {
            "colorbar": {
             "outlinewidth": 0,
             "ticks": ""
            },
            "colorscale": [
             [
              0,
              "#0d0887"
             ],
             [
              0.1111111111111111,
              "#46039f"
             ],
             [
              0.2222222222222222,
              "#7201a8"
             ],
             [
              0.3333333333333333,
              "#9c179e"
             ],
             [
              0.4444444444444444,
              "#bd3786"
             ],
             [
              0.5555555555555556,
              "#d8576b"
             ],
             [
              0.6666666666666666,
              "#ed7953"
             ],
             [
              0.7777777777777778,
              "#fb9f3a"
             ],
             [
              0.8888888888888888,
              "#fdca26"
             ],
             [
              1,
              "#f0f921"
             ]
            ],
            "type": "surface"
           }
          ],
          "table": [
           {
            "cells": {
             "fill": {
              "color": "#EBF0F8"
             },
             "line": {
              "color": "white"
             }
            },
            "header": {
             "fill": {
              "color": "#C8D4E3"
             },
             "line": {
              "color": "white"
             }
            },
            "type": "table"
           }
          ]
         },
         "layout": {
          "annotationdefaults": {
           "arrowcolor": "#2a3f5f",
           "arrowhead": 0,
           "arrowwidth": 1
          },
          "autotypenumbers": "strict",
          "coloraxis": {
           "colorbar": {
            "outlinewidth": 0,
            "ticks": ""
           }
          },
          "colorscale": {
           "diverging": [
            [
             0,
             "#8e0152"
            ],
            [
             0.1,
             "#c51b7d"
            ],
            [
             0.2,
             "#de77ae"
            ],
            [
             0.3,
             "#f1b6da"
            ],
            [
             0.4,
             "#fde0ef"
            ],
            [
             0.5,
             "#f7f7f7"
            ],
            [
             0.6,
             "#e6f5d0"
            ],
            [
             0.7,
             "#b8e186"
            ],
            [
             0.8,
             "#7fbc41"
            ],
            [
             0.9,
             "#4d9221"
            ],
            [
             1,
             "#276419"
            ]
           ],
           "sequential": [
            [
             0,
             "#0d0887"
            ],
            [
             0.1111111111111111,
             "#46039f"
            ],
            [
             0.2222222222222222,
             "#7201a8"
            ],
            [
             0.3333333333333333,
             "#9c179e"
            ],
            [
             0.4444444444444444,
             "#bd3786"
            ],
            [
             0.5555555555555556,
             "#d8576b"
            ],
            [
             0.6666666666666666,
             "#ed7953"
            ],
            [
             0.7777777777777778,
             "#fb9f3a"
            ],
            [
             0.8888888888888888,
             "#fdca26"
            ],
            [
             1,
             "#f0f921"
            ]
           ],
           "sequentialminus": [
            [
             0,
             "#0d0887"
            ],
            [
             0.1111111111111111,
             "#46039f"
            ],
            [
             0.2222222222222222,
             "#7201a8"
            ],
            [
             0.3333333333333333,
             "#9c179e"
            ],
            [
             0.4444444444444444,
             "#bd3786"
            ],
            [
             0.5555555555555556,
             "#d8576b"
            ],
            [
             0.6666666666666666,
             "#ed7953"
            ],
            [
             0.7777777777777778,
             "#fb9f3a"
            ],
            [
             0.8888888888888888,
             "#fdca26"
            ],
            [
             1,
             "#f0f921"
            ]
           ]
          },
          "colorway": [
           "#636efa",
           "#EF553B",
           "#00cc96",
           "#ab63fa",
           "#FFA15A",
           "#19d3f3",
           "#FF6692",
           "#B6E880",
           "#FF97FF",
           "#FECB52"
          ],
          "font": {
           "color": "#2a3f5f"
          },
          "geo": {
           "bgcolor": "white",
           "lakecolor": "white",
           "landcolor": "#E5ECF6",
           "showlakes": true,
           "showland": true,
           "subunitcolor": "white"
          },
          "hoverlabel": {
           "align": "left"
          },
          "hovermode": "closest",
          "mapbox": {
           "style": "light"
          },
          "paper_bgcolor": "white",
          "plot_bgcolor": "#E5ECF6",
          "polar": {
           "angularaxis": {
            "gridcolor": "white",
            "linecolor": "white",
            "ticks": ""
           },
           "bgcolor": "#E5ECF6",
           "radialaxis": {
            "gridcolor": "white",
            "linecolor": "white",
            "ticks": ""
           }
          },
          "scene": {
           "xaxis": {
            "backgroundcolor": "#E5ECF6",
            "gridcolor": "white",
            "gridwidth": 2,
            "linecolor": "white",
            "showbackground": true,
            "ticks": "",
            "zerolinecolor": "white"
           },
           "yaxis": {
            "backgroundcolor": "#E5ECF6",
            "gridcolor": "white",
            "gridwidth": 2,
            "linecolor": "white",
            "showbackground": true,
            "ticks": "",
            "zerolinecolor": "white"
           },
           "zaxis": {
            "backgroundcolor": "#E5ECF6",
            "gridcolor": "white",
            "gridwidth": 2,
            "linecolor": "white",
            "showbackground": true,
            "ticks": "",
            "zerolinecolor": "white"
           }
          },
          "shapedefaults": {
           "line": {
            "color": "#2a3f5f"
           }
          },
          "ternary": {
           "aaxis": {
            "gridcolor": "white",
            "linecolor": "white",
            "ticks": ""
           },
           "baxis": {
            "gridcolor": "white",
            "linecolor": "white",
            "ticks": ""
           },
           "bgcolor": "#E5ECF6",
           "caxis": {
            "gridcolor": "white",
            "linecolor": "white",
            "ticks": ""
           }
          },
          "title": {
           "x": 0.05
          },
          "xaxis": {
           "automargin": true,
           "gridcolor": "white",
           "linecolor": "white",
           "ticks": "",
           "title": {
            "standoff": 15
           },
           "zerolinecolor": "white",
           "zerolinewidth": 2
          },
          "yaxis": {
           "automargin": true,
           "gridcolor": "white",
           "linecolor": "white",
           "ticks": "",
           "title": {
            "standoff": 15
           },
           "zerolinecolor": "white",
           "zerolinewidth": 2
          }
         }
        },
        "title": {
         "text": "Metric: MAE"
        },
        "xaxis": {
         "autorange": true,
         "range": [
          -0.8242933427192276,
          4.7802259654062755
         ],
         "type": "category"
        },
        "yaxis": {
         "autorange": true,
         "gridcolor": "rgb(255,255,255)",
         "gridwidth": 0.1,
         "range": [
          -0.2544266902896641,
          2.031250422135516
         ],
         "showgrid": true,
         "title": {
          "font": {
           "size": 30
          }
         },
         "type": "log",
         "zeroline": true,
         "zerolinewidth": 2
        }
       }
      },
      "image/png": "[encoded data removed]"
     },
     "metadata": {},
     "output_type": "display_data"
    },
    {
     "name": "stdout",
     "output_type": "stream",
     "text": [
      "\n",
      "** Stats table **\n",
      "      MEANS    STD  MEDIANS\n",
      "MAE   31.13  24.51    28.68\n",
      "RMSE  33.80  24.51    34.85\n",
      "PCC    0.41   0.47     0.50\n",
      "CCC    0.26   0.38     0.05\n",
      "SNR   -6.94   3.25    -6.76\n",
      "MAX   53.75  31.52    59.66\n"
     ]
    }
   ],
   "source": [
    "## -- Clustering\n",
    "ANALYSIS(dataset, 'clustering', metrics=['MAE'])\n",
    "STATS(dataset, approach='clustering')"
   ]
  },
  {
   "cell_type": "code",
   "execution_count": 155,
   "metadata": {
    "colab": {
     "base_uri": "https://localhost:8080/",
     "height": 791
    },
    "executionInfo": {
     "elapsed": 70,
     "status": "ok",
     "timestamp": 1673690563781,
     "user": {
      "displayName": "Giuliano Grossi",
      "userId": "05046904419500019805"
     },
     "user_tz": -60
    },
    "id": "LHqsY3J-OrXm",
    "outputId": "bc2da106-6e06-4d18-f49d-fc1b3b7dd33b"
   },
   "outputs": [
    {
     "name": "stdout",
     "output_type": "stream",
     "text": [
      "## Dataset: ECG_Fitness_06-2\n",
      "   Approach: deep\n",
      "   h5      : ../results/h5/ECG_Fitness_06-2_deep.h5\n",
      "   cfg     : ../results/h5/ECG_Fitness_06-2_deep.cfg\n",
      "\n"
     ]
    },
    {
     "ename": "TypeError",
     "evalue": "exceptions must derive from BaseException",
     "output_type": "error",
     "traceback": [
      "\u001b[0;31m---------------------------------------------------------------------------\u001b[0m",
      "\u001b[0;31mTypeError\u001b[0m                                 Traceback (most recent call last)",
      "\u001b[0;32m/tmp/ipykernel_200861/438029647.py\u001b[0m in \u001b[0;36m<module>\u001b[0;34m\u001b[0m\n\u001b[1;32m      1\u001b[0m \u001b[0;31m## -- Deep\u001b[0m\u001b[0;34m\u001b[0m\u001b[0;34m\u001b[0m\u001b[0m\n\u001b[0;32m----> 2\u001b[0;31m \u001b[0mANALYSIS\u001b[0m\u001b[0;34m(\u001b[0m\u001b[0mdataset\u001b[0m\u001b[0;34m,\u001b[0m \u001b[0;34m'deep'\u001b[0m\u001b[0;34m,\u001b[0m \u001b[0mmetrics\u001b[0m\u001b[0;34m=\u001b[0m\u001b[0;34m[\u001b[0m\u001b[0;34m'MAE'\u001b[0m\u001b[0;34m]\u001b[0m\u001b[0;34m)\u001b[0m\u001b[0;34m\u001b[0m\u001b[0;34m\u001b[0m\u001b[0m\n\u001b[0m\u001b[1;32m      3\u001b[0m \u001b[0mSTATS\u001b[0m\u001b[0;34m(\u001b[0m\u001b[0mdataset\u001b[0m\u001b[0;34m,\u001b[0m \u001b[0mapproach\u001b[0m\u001b[0;34m=\u001b[0m\u001b[0;34m'deep'\u001b[0m\u001b[0;34m)\u001b[0m\u001b[0;34m\u001b[0m\u001b[0;34m\u001b[0m\u001b[0m\n",
      "\u001b[0;32m/tmp/ipykernel_200861/1032042440.py\u001b[0m in \u001b[0;36mANALYSIS\u001b[0;34m(dataset, approach, metrics, j_data, writeFile)\u001b[0m\n\u001b[1;32m     34\u001b[0m   \u001b[0;31m# boxplot\u001b[0m\u001b[0;34m\u001b[0m\u001b[0;34m\u001b[0m\u001b[0m\n\u001b[1;32m     35\u001b[0m   \u001b[0;32mfor\u001b[0m \u001b[0mm\u001b[0m \u001b[0;32min\u001b[0m \u001b[0mmetrics\u001b[0m\u001b[0;34m:\u001b[0m\u001b[0;34m\u001b[0m\u001b[0;34m\u001b[0m\u001b[0m\n\u001b[0;32m---> 36\u001b[0;31m     \u001b[0mst\u001b[0m \u001b[0;34m=\u001b[0m \u001b[0mStatAnalysis\u001b[0m\u001b[0;34m(\u001b[0m\u001b[0mfilenameH5\u001b[0m\u001b[0;34m,\u001b[0m \u001b[0mjoin_data\u001b[0m\u001b[0;34m=\u001b[0m\u001b[0mj_data\u001b[0m\u001b[0;34m)\u001b[0m\u001b[0;34m\u001b[0m\u001b[0;34m\u001b[0m\u001b[0m\n\u001b[0m\u001b[1;32m     37\u001b[0m     \u001b[0;32mif\u001b[0m \u001b[0mm\u001b[0m\u001b[0;34m==\u001b[0m\u001b[0;34m'MAE'\u001b[0m\u001b[0;34m:\u001b[0m\u001b[0;34m\u001b[0m\u001b[0;34m\u001b[0m\u001b[0m\n\u001b[1;32m     38\u001b[0m       \u001b[0mscale\u001b[0m \u001b[0;34m=\u001b[0m \u001b[0;34m'log'\u001b[0m\u001b[0;34m\u001b[0m\u001b[0;34m\u001b[0m\u001b[0m\n",
      "\u001b[0;32m~/miniconda3/envs/pyvhr/lib/python3.9/site-packages/pyVHR-1.0.2-py3.9.egg/pyVHR/analysis/stats.py\u001b[0m in \u001b[0;36m__init__\u001b[0;34m(self, filepath, join_data, remove_outliers)\u001b[0m\n\u001b[1;32m     41\u001b[0m         \u001b[0mself\u001b[0m\u001b[0;34m.\u001b[0m\u001b[0mpath\u001b[0m \u001b[0;34m=\u001b[0m \u001b[0;34m\"\"\u001b[0m\u001b[0;34m\u001b[0m\u001b[0;34m\u001b[0m\u001b[0m\n\u001b[1;32m     42\u001b[0m     \u001b[0;32melse\u001b[0m\u001b[0;34m:\u001b[0m\u001b[0;34m\u001b[0m\u001b[0;34m\u001b[0m\u001b[0m\n\u001b[0;32m---> 43\u001b[0;31m         \u001b[0;32mraise\u001b[0m \u001b[0;34m\"Error: filepath is wrong!\"\u001b[0m\u001b[0;34m\u001b[0m\u001b[0;34m\u001b[0m\u001b[0m\n\u001b[0m\u001b[1;32m     44\u001b[0m \u001b[0;34m\u001b[0m\u001b[0m\n\u001b[1;32m     45\u001b[0m     \u001b[0mself\u001b[0m\u001b[0;34m.\u001b[0m\u001b[0mjoin_data\u001b[0m \u001b[0;34m=\u001b[0m \u001b[0mjoin_data\u001b[0m\u001b[0;34m\u001b[0m\u001b[0;34m\u001b[0m\u001b[0m\n",
      "\u001b[0;31mTypeError\u001b[0m: exceptions must derive from BaseException"
     ]
    }
   ],
   "source": [
    "## -- Deep \n",
    "ANALYSIS(dataset, 'deep', metrics=['MAE'])\n",
    "STATS(dataset, approach='deep')"
   ]
  },
  {
   "cell_type": "markdown",
   "metadata": {
    "id": "X60RSuv6ZjrT"
   },
   "source": [
    "# Details"
   ]
  },
  {
   "cell_type": "code",
   "execution_count": null,
   "metadata": {
    "colab": {
     "base_uri": "https://localhost:8080/"
    },
    "executionInfo": {
     "elapsed": 296,
     "status": "ok",
     "timestamp": 1673689166786,
     "user": {
      "displayName": "Giuliano Grossi",
      "userId": "05046904419500019805"
     },
     "user_tz": -60
    },
    "id": "JsBnwFGQ1sc7",
    "outputId": "4329f660-a641-41f2-a47f-5b8a7a4451c3"
   },
   "outputs": [],
   "source": [
    "# holistic\n",
    "\n",
    "method = 'holistic'\n",
    "DETAILS(dataset, method, metric='MAE')"
   ]
  },
  {
   "cell_type": "code",
   "execution_count": null,
   "metadata": {
    "colab": {
     "base_uri": "https://localhost:8080/"
    },
    "executionInfo": {
     "elapsed": 275,
     "status": "ok",
     "timestamp": 1673689170990,
     "user": {
      "displayName": "Giuliano Grossi",
      "userId": "05046904419500019805"
     },
     "user_tz": -60
    },
    "id": "T8Hh7PkeVKWV",
    "outputId": "807f0fde-8887-45e8-bb70-d41ccefe59a1"
   },
   "outputs": [],
   "source": [
    "# median\n",
    "metric='MAE'\n",
    "method = 'median'\n",
    "DETAILS(dataset, method, metric)"
   ]
  },
  {
   "cell_type": "code",
   "execution_count": null,
   "metadata": {
    "colab": {
     "base_uri": "https://localhost:8080/"
    },
    "executionInfo": {
     "elapsed": 261,
     "status": "ok",
     "timestamp": 1673689173829,
     "user": {
      "displayName": "Giuliano Grossi",
      "userId": "05046904419500019805"
     },
     "user_tz": -60
    },
    "id": "TcnU5TAEzA-E",
    "outputId": "1a1b6c10-29c4-4f25-ce7b-53fddb7e4b07"
   },
   "outputs": [],
   "source": [
    "# clustering\n",
    "metric='MAE'\n",
    "method = 'clustering'\n",
    "DETAILS(dataset, method, metric)"
   ]
  },
  {
   "cell_type": "markdown",
   "metadata": {
    "id": "prd4IqHqKgNe"
   },
   "source": [
    "# Multidataset"
   ]
  },
  {
   "cell_type": "code",
   "execution_count": null,
   "metadata": {
    "id": "VX7I12SdVxUP"
   },
   "outputs": [],
   "source": [
    "# multi dataset\n",
    "#path = path_results + 'h5_collection'\n",
    "#st = StatAnalysis(path, join_data=True)\n",
    "#fig = st.displayBoxPlot(metric='PCC')\n",
    "#fig.show(renderer = \"colab\")\n"
   ]
  }
 ],
 "metadata": {
  "colab": {
   "collapsed_sections": [
    "kGQEe3PcaWpV"
   ],
   "provenance": []
  },
  "gpuClass": "standard",
  "kernelspec": {
   "display_name": "Python 3 (ipykernel)",
   "language": "python",
   "name": "python3"
  },
  "language_info": {
   "codemirror_mode": {
    "name": "ipython",
    "version": 3
   },
   "file_extension": ".py",
   "mimetype": "text/x-python",
   "name": "python",
   "nbconvert_exporter": "python",
   "pygments_lexer": "ipython3",
   "version": "3.9.7"
  }
 },
 "nbformat": 4,
 "nbformat_minor": 4
}
