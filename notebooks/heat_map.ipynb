{
  "nbformat": 4,
  "nbformat_minor": 0,
  "metadata": {
    "colab": {
      "name": "heat_map.ipynb",
      "private_outputs": true,
      "provenance": [],
      "collapsed_sections": []
    },
    "kernelspec": {
      "name": "python3",
      "display_name": "Python 3"
    },
    "language_info": {
      "name": "python"
    }
  },
  "cells": [
    {
      "cell_type": "markdown",
      "metadata": {
        "id": "C-A4MTIt-TqT"
      },
      "source": [
        "  # MISC\n",
        "\n",
        "  Here some usefull functions for plotting"
      ]
    },
    {
      "cell_type": "code",
      "metadata": {
        "id": "DSra9hErFvEj"
      },
      "source": [
        "from scipy.ndimage import gaussian_filter\n",
        "import mediapipe as mp\n",
        "from sklearn.metrics import euclidean_distances\n",
        "import cv2\n",
        "import numpy as np\n",
        "# compute the euclidean distances between all landmarks\n",
        "# this script is used by other functions\n",
        "image_file_name =\"/home/frea/Documents/pyVHRnew/img/face.png\"\n",
        "landmarks_list =  [_ for _ in range(468)]\n",
        "imag = cv2.imread(image_file_name,cv2.COLOR_RGB2BGR)\n",
        "imag = cv2.cvtColor(imag, cv2.COLOR_BGR2RGB)\n",
        "mp_drawing = mp.solutions.drawing_utils\n",
        "mp_face_mesh = mp.solutions.face_mesh\n",
        "with mp_face_mesh.FaceMesh(\n",
        "    static_image_mode=True,\n",
        "    max_num_faces=1,\n",
        "    min_detection_confidence=0.5) as face_mesh:\n",
        "  for idx, file in enumerate([image_file_name,]):\n",
        "    image = cv2.imread(file)\n",
        "    results = face_mesh.process(cv2.cvtColor(image, cv2.COLOR_BGR2RGB))\n",
        "    if not results.multi_face_landmarks:\n",
        "      continue\n",
        "    width = image.shape[1]\n",
        "    height = image.shape[0]\n",
        "    face_landmarks = results.multi_face_landmarks[0]\n",
        "    ldmks = np.zeros((468, 3), dtype=np.float32)\n",
        "    for idx, landmark in enumerate(face_landmarks.landmark):\n",
        "        if ((landmark.HasField('visibility') and landmark.visibility < VISIBILITY_THRESHOLD)\n",
        "                or (landmark.HasField('presence') and landmark.presence < PRESENCE_THRESHOLD)):\n",
        "            ldmks[idx, 0] = -1.0\n",
        "            ldmks[idx, 1] = -1.0\n",
        "            ldmks[idx, 2] = -1.0\n",
        "        else:\n",
        "            coords = mp_drawing._normalized_to_pixel_coordinates(\n",
        "                landmark.x, landmark.y, width, height)\n",
        "            if coords:\n",
        "                ldmks[idx, 0] = coords[1]\n",
        "                ldmks[idx, 1] = coords[0]\n",
        "                ldmks[idx, 2] = idx\n",
        "            else:\n",
        "                ldmks[idx, 0] = -1.0\n",
        "                ldmks[idx, 1] = -1.0\n",
        "                ldmks[idx, 2] = -1.0\n",
        "euclid_distances = euclidean_distances(ldmks[:,0:2], ldmks[:,0:2])"
      ],
      "execution_count": null,
      "outputs": []
    },
    {
      "cell_type": "code",
      "metadata": {
        "id": "gIDi_palFweh"
      },
      "source": [
        "from scipy.ndimage import gaussian_filter\n",
        "import matplotlib.pyplot as plt\n",
        "from numba import njit, prange\n",
        "import plotly.graph_objects as go\n",
        "import plotly.express as px\n",
        "from sklearn.metrics import euclidean_distances\n",
        "\n",
        "@njit(parallel=True)\n",
        "def __sum_images(a,b,alpha):\n",
        "  for x in prange(a.shape[0]):\n",
        "    for y in prange(a.shape[1]):\n",
        "      a[x,y,0] = min((1-alpha)*a[x,y,0] + alpha*b[x,y,0],255)\n",
        "      a[x,y,1] = min((1-alpha)*a[x,y,1] + alpha*b[x,y,1],255)\n",
        "      a[x,y,2] = min((1-alpha)*a[x,y,2] + alpha*b[x,y,2],255)\n",
        "  return a\n",
        "\n",
        "def plot_heat_map(err, err_sorted, radius, sigma, alpha, reverse=True):\n",
        "  configure_plotly_browser_state()\n",
        "  image_file_name = \"/home/frea/Documents/pyVHRnew/img/face.png\"\n",
        "  imag = cv2.imread(image_file_name,cv2.COLOR_RGB2BGR)\n",
        "  imag = cv2.cvtColor(imag, cv2.COLOR_BGR2RGB)\n",
        "  width = imag.shape[1]\n",
        "  height = imag.shape[0]\n",
        "  mp_drawing = mp.solutions.drawing_utils\n",
        "  mp_face_mesh = mp.solutions.face_mesh\n",
        "  with mp_face_mesh.FaceMesh(\n",
        "      static_image_mode=True,\n",
        "      max_num_faces=1,\n",
        "      min_detection_confidence=0.5) as face_mesh:\n",
        "    choosenldmks = [_ for _ in range(468)]\n",
        "    ldmks = np.zeros((468, 5), dtype=np.float32)\n",
        "    ldmks[:, 0] = -1.0\n",
        "    ldmks[:, 1] = -1.0\n",
        "    # face landmarks\n",
        "    results = face_mesh.process(imag)\n",
        "    if results.multi_face_landmarks:\n",
        "      face_landmarks = results.multi_face_landmarks[0]\n",
        "      landmarks = [l for l in face_landmarks.landmark]\n",
        "      for idx in choosenldmks:\n",
        "          landmark = landmarks[idx]\n",
        "          if not ((landmark.HasField('visibility') and landmark.visibility < VISIBILITY_THRESHOLD)\n",
        "                  or (landmark.HasField('presence') and landmark.presence < PRESENCE_THRESHOLD)):\n",
        "              coords = mp_drawing._normalized_to_pixel_coordinates(\n",
        "                  landmark.x, landmark.y, width, height)\n",
        "              if coords:\n",
        "                  ldmks[idx, 0] = coords[1]\n",
        "                  ldmks[idx, 1] = coords[0]\n",
        "  to_keep = [err_sorted[0],]\n",
        "  for e in err_sorted[1:]:\n",
        "    if np.min(euclid_distances[e,to_keep]) > radius:\n",
        "      to_keep.append(e)\n",
        "  to_keep = list(set(to_keep))\n",
        "  filtered_ldmks = []\n",
        "  for idx in to_keep:\n",
        "      filtered_ldmks.append([ldmks[idx,0],ldmks[idx,1],ldmks[idx,2]])\n",
        "  filtered_ldmks = np.array(filtered_ldmks, dtype=np.float32)\n",
        "  grid = np.zeros((height, width,1),dtype=np.float32)\n",
        "  _err = err\n",
        "  if reverse: \n",
        "    _err = 1.0 / err\n",
        "  for e in filtered_ldmks:\n",
        "    grid[int(e[0]),int(e[1]),0] = _err[int(e[2])]\n",
        "  Z = gaussian_filter(grid, sigma=sigma)\n",
        "  Z = (Z/np.max(Z)) * 255\n",
        "  Z = Z.astype(np.uint8)\n",
        "  heat_map = cv2.applyColorMap(Z[:,:,0],cv2.COLORMAP_RAINBOW) \n",
        "  __sum_images(imag, heat_map, alpha)\n",
        "  fig = px.imshow(imag)\n",
        "  for l in filtered_ldmks:\n",
        "      name = 'landmark_' + str(int(l[2]))\n",
        "      fig.add_trace(go.Scatter(x=(l[1],), y=(l[0],),mode='markers',marker_color='rgba(0,0,255,1.0)', marker=dict(color='LightSkyBlue',size=2,),name=name))\n",
        "  fig.show()"
      ],
      "execution_count": null,
      "outputs": []
    },
    {
      "cell_type": "code",
      "metadata": {
        "id": "4UlZ3CaEPrk5"
      },
      "source": [
        "# Compute equidistant landmarks given a radius and a starting seed\n",
        "def equidistant_landmarks(seed, radius):\n",
        "  to_keep = seed\n",
        "  for e in range(0,468):\n",
        "    if np.min(euclid_distances[e,to_keep]) > radius:\n",
        "      to_keep.append(e)\n",
        "  to_keep = list(set(to_keep))\n",
        "  return to_keep\n",
        "\n",
        "from pyVHR.plot.visualize import *\n",
        "eqd_ldmks = equidistant_landmarks([4,], 24.0*2)\n",
        "print(eqd_ldmks)\n",
        "print(len(eqd_ldmks))\n",
        "visualize_landmarks_list(\"/home/frea/Documents/pyVHRnew/img/face.png\", eqd_ldmks)"
      ],
      "execution_count": null,
      "outputs": []
    },
    {
      "cell_type": "markdown",
      "metadata": {
        "id": "-6OPv9EZze86"
      },
      "source": [
        "# Extraction routine"
      ]
    },
    {
      "cell_type": "code",
      "metadata": {
        "id": "mWXk2mwaeuJ-"
      },
      "source": [
        "from pyVHR.extraction.sig_processing import *\n",
        "from pyVHR.BVP.BVP import *\n",
        "from pyVHR.BPM.BPM import *\n",
        "from pyVHR.BVP.methods import *\n",
        "from pyVHR.BVP.filters import *\n",
        "from pyVHR.plot.visualize import *\n",
        "\n",
        "VisualizeParams.renderer = 'colab'"
      ],
      "execution_count": null,
      "outputs": []
    },
    {
      "cell_type": "code",
      "metadata": {
        "id": "UHKQ6bT-BPuH"
      },
      "source": [
        "from pyVHR.datasets.dataset import datasetFactory\n",
        "from pyVHR.utils.errors import *\n",
        "\n",
        "dataset = datasetFactory(\n",
        "    \"lgi_ppgi\", videodataDIR=\"/var/datasets/VHR/\", BVPdataDIR=\"/var/datasets/VHR/\")\n",
        "dataset.loadFilenames()\n",
        "allvideo = dataset.videoFilenames\n",
        "for v in range(len(allvideo)):\n",
        "  print(v, allvideo[v])"
      ],
      "execution_count": null,
      "outputs": []
    },
    {
      "cell_type": "code",
      "metadata": {
        "id": "jF5qS-lZwUZo"
      },
      "source": [
        "wsize = 8 #seconds"
      ],
      "execution_count": null,
      "outputs": []
    },
    {
      "cell_type": "code",
      "metadata": {
        "id": "iPX8RrgA5bva"
      },
      "source": [
        "video_idx = 1\n",
        "fname = dataset.getSigFilename(video_idx)\n",
        "sigGT = dataset.readSigfile(fname)\n",
        "bpmGT, timesGT = sigGT.getBPM(wsize)\n",
        "videoFileName = dataset.getVideoFilename(video_idx)\n",
        "print(videoFileName)\n",
        "fps = get_fps(videoFileName)\n",
        "print(fps)"
      ],
      "execution_count": null,
      "outputs": []
    },
    {
      "cell_type": "code",
      "metadata": {
        "id": "627hefyyeXDT"
      },
      "source": [
        "sig_extractor = SignalProcessing()\n",
        "sig_extractor.display_cuda_device()\n",
        "sig_extractor.choose_cuda_device(0)"
      ],
      "execution_count": null,
      "outputs": []
    },
    {
      "cell_type": "code",
      "metadata": {
        "id": "TC89TrB6LZ_T"
      },
      "source": [
        "sig_extractor.set_skin_extractor(SkinExtractionConvexHull('GPU'))\n",
        "#sig_extractor.set_skin_extractor(SkinExtractionFaceParsing('CPU'))"
      ],
      "execution_count": null,
      "outputs": []
    },
    {
      "cell_type": "code",
      "metadata": {
        "id": "cXt1POLtfhW3"
      },
      "source": [
        "sig_extractor.set_total_frames(10*fps)\n",
        "# To precess the whole video pass 0"
      ],
      "execution_count": null,
      "outputs": []
    },
    {
      "cell_type": "code",
      "metadata": {
        "id": "2SmUo73we_Ds"
      },
      "source": [
        "SkinProcessingParams.RGB_LOW_TH = 55\n",
        "SkinProcessingParams.RGB_HIGH_TH = 200\n",
        "\n",
        "SignalProcessingParams.RGB_LOW_TH = 55\n",
        "SignalProcessingParams.RGB_HIGH_TH = 200"
      ],
      "execution_count": null,
      "outputs": []
    },
    {
      "cell_type": "code",
      "metadata": {
        "id": "IrpqmbikhG_l"
      },
      "source": [
        "sig_extractor.set_visualize_skin_and_landmarks(\n",
        "    visualize_skin=False, visualize_landmarks=False, visualize_landmarks_number=False, visualize_patch=False)"
      ],
      "execution_count": null,
      "outputs": []
    },
    {
      "cell_type": "code",
      "metadata": {
        "id": "QrqPGezuhIbA"
      },
      "source": [
        "sig_extractor.set_visualize_skin_and_landmarks(\n",
        "    visualize_skin=True, visualize_landmarks=True, visualize_landmarks_number=True, visualize_patch=True)"
      ],
      "execution_count": null,
      "outputs": []
    },
    {
      "cell_type": "code",
      "metadata": {
        "id": "3Rs72pkNX94x"
      },
      "source": [
        "visualize_landmarks_list(\"/home/frea/Documents/pyVHRnew/img/face.png\", [i for i in range(0,468)])"
      ],
      "execution_count": null,
      "outputs": []
    },
    {
      "cell_type": "code",
      "metadata": {
        "id": "xlPd-8QXsDzl"
      },
      "source": [
        "filter_landmarks = [i for i in range(0,468)]\n",
        "filter_landmarks = list(dict.fromkeys(filter_landmarks))\n",
        "print(len(filter_landmarks))\n",
        "visualize_landmarks_list(\"/home/frea/Documents/pyVHRnew/img/face.png\", filter_landmarks)"
      ],
      "execution_count": null,
      "outputs": []
    },
    {
      "cell_type": "code",
      "metadata": {
        "id": "G8pmLyTKkhCo"
      },
      "source": [
        "sig_extractor.set_landmarks(filter_landmarks)"
      ],
      "execution_count": null,
      "outputs": []
    },
    {
      "cell_type": "code",
      "metadata": {
        "id": "YIwoSNxOgRLV"
      },
      "source": [
        "# holistic extraction\n",
        "hol_sig = sig_extractor.extract_holistic(videoFileName, 1.0)"
      ],
      "execution_count": null,
      "outputs": []
    },
    {
      "cell_type": "code",
      "metadata": {
        "id": "bsUo2LjGgfAj"
      },
      "source": [
        "# HOLISTIC analysis\n",
        "windowed_hol_sig, hol_timesES = sig_windowing(hol_sig, wsize, 1, fps)\n",
        "windowed_hol_sig = apply_filter(windowed_hol_sig,  BPfilter, params={'minHz':0.65, 'maxHz':4.0, 'fps':fps, 'order':6})\n",
        "hol_bvps = RGB_sig_to_BVP(windowed_hol_sig, fps, device_type='cuda', method=cupy_CHROM)\n",
        "hol_bvps = apply_filter(hol_bvps, BPfilter, params={'minHz':0.65, 'maxHz':4.0, 'fps':fps, 'order':6})\n",
        "hol_bpmES = BVP_to_BPM(hol_bvps, fps)"
      ],
      "execution_count": null,
      "outputs": []
    },
    {
      "cell_type": "code",
      "metadata": {
        "id": "fxzLGh5rfYPC"
      },
      "source": [
        "# SQUARE EXTRACTION\n",
        "sig_extractor.set_square_patches_side(24.0)\n",
        "sig = sig_extractor.extract_patches(videoFileName, 1.0,\"squares\", \"mean\")"
      ],
      "execution_count": null,
      "outputs": []
    },
    {
      "cell_type": "code",
      "metadata": {
        "id": "MWTcbyAyQPcY"
      },
      "source": [
        "sig.shape"
      ],
      "execution_count": null,
      "outputs": []
    },
    {
      "cell_type": "code",
      "metadata": {
        "id": "gN7Xc8MadZlq"
      },
      "source": [
        "visualize_skin_coll = sig_extractor.get_visualize_skin()\n",
        "visualize_patches_coll = sig_extractor.get_visualize_patches()\n",
        "print(len(visualize_skin_coll))\n",
        "print(len(visualize_patches_coll))"
      ],
      "execution_count": null,
      "outputs": []
    },
    {
      "cell_type": "code",
      "metadata": {
        "id": "RdhaOpBXdaJh"
      },
      "source": [
        "interactive_image_plot(visualize_patches_coll)"
      ],
      "execution_count": null,
      "outputs": []
    },
    {
      "cell_type": "code",
      "metadata": {
        "id": "cYi_G8rzgfHB"
      },
      "source": [
        "# [usage] sig_windowing(sig, wsize, stride, fps)\n",
        "windowed_sig, timesES = sig_windowing(sig, wsize, 1, fps)\n",
        "print(len(windowed_sig))\n",
        "print(windowed_sig[0].shape)"
      ],
      "execution_count": null,
      "outputs": []
    },
    {
      "cell_type": "code",
      "metadata": {
        "id": "iH5-4fs3WGzi"
      },
      "source": [
        "visualize_windowed_sig(windowed_sig,0)"
      ],
      "execution_count": null,
      "outputs": []
    },
    {
      "cell_type": "code",
      "metadata": {
        "id": "sySCrAinghKt"
      },
      "source": [
        "bvps = RGB_sig_to_BVP(windowed_sig, fps, device_type='cuda', method=cupy_CHROM)"
      ],
      "execution_count": null,
      "outputs": []
    },
    {
      "cell_type": "code",
      "metadata": {
        "id": "M_lZaw95mBtA"
      },
      "source": [
        "print(len(bvps))\n",
        "print(bvps[1].shape)"
      ],
      "execution_count": null,
      "outputs": []
    },
    {
      "cell_type": "code",
      "metadata": {
        "id": "IT5Q0v7qgjrh"
      },
      "source": [
        "bpmES = BVP_to_BPM(bvps, fps)"
      ],
      "execution_count": null,
      "outputs": []
    },
    {
      "cell_type": "code",
      "metadata": {
        "id": "l3XR19_IG678"
      },
      "source": [
        "bpmES[1].shape"
      ],
      "execution_count": null,
      "outputs": []
    },
    {
      "cell_type": "code",
      "metadata": {
        "id": "cLDlS0P1gl8H"
      },
      "source": [
        "median_bpmES = multi_est_BPM_median(bpmES)"
      ],
      "execution_count": null,
      "outputs": []
    },
    {
      "cell_type": "code",
      "metadata": {
        "id": "J4XxB1cdKHsA"
      },
      "source": [
        "visualize_BPMs([[median_bpmES, timesES, \"medianES\"], [hol_bpmES, hol_timesES, \"holistic\"], [bpmGT, timesGT, \"GT\"]])"
      ],
      "execution_count": null,
      "outputs": []
    },
    {
      "cell_type": "code",
      "metadata": {
        "id": "yw5iAf4uVw7S"
      },
      "source": [
        "RMSE, MAE, MAX, PCC = getErrors(np.expand_dims(median_bpmES, axis=0), bpmGT, hol_timesES, timesGT)\n",
        "printErrors(RMSE, MAE, MAX, PCC)"
      ],
      "execution_count": null,
      "outputs": []
    },
    {
      "cell_type": "code",
      "metadata": {
        "id": "b2LpePLmV0dt"
      },
      "source": [
        "RMSE, MAE, MAX, PCC = getErrors(np.expand_dims(hol_bpmES, axis=0), bpmGT, hol_timesES, timesGT)\n",
        "printErrors(RMSE, MAE, MAX, PCC)"
      ],
      "execution_count": null,
      "outputs": []
    },
    {
      "cell_type": "markdown",
      "metadata": {
        "id": "84oAnWXvBnyy"
      },
      "source": [
        "# LANDMARKS errors"
      ]
    },
    {
      "cell_type": "code",
      "metadata": {
        "id": "0d2rWXiQ-TU9"
      },
      "source": [
        "ldmks_bpm = np.zeros((sig.shape[1],len(bpmES)),np.float32)\n",
        "for i in range(ldmks_bpm.shape[0]):\n",
        "  for j in range(ldmks_bpm.shape[1]):\n",
        "    ldmks_bpm[i,j] = bpmES[j][i]"
      ],
      "execution_count": null,
      "outputs": []
    },
    {
      "cell_type": "code",
      "metadata": {
        "id": "mcnBWuNDC8ys"
      },
      "source": [
        "# visualize all separated ldmks bpm\n",
        "configure_plotly_browser_state()\n",
        "fig = go.Figure()\n",
        "name = \"GT\"\n",
        "fig.add_trace(go.Scatter(x=timesGT, y=bpmGT,\n",
        "                    mode='lines+markers',marker_color='rgba(255.0,0.0,0.0, 1.0)', name=name))\n",
        "i = 1\n",
        "for e in ldmks_bpm:\n",
        "  name = \"BPM_\" + str(i)\n",
        "  fig.add_trace(go.Scatter(x=timesES, y=e,\n",
        "                      mode='lines+markers',marker_color='rgba('+str((i+23)*122%255)+', '+str(((i+1)*222)%255)+', '+str(((i+2)*233)%255)+', 1.0)', name=name))\n",
        "  i+=1\n",
        "fig.show()"
      ],
      "execution_count": null,
      "outputs": []
    },
    {
      "cell_type": "code",
      "metadata": {
        "id": "YD4Z20n6D4Qs"
      },
      "source": [
        "ldmks_err = np.zeros((sig.shape[1], 4),dtype=np.float32)\n",
        "for i in range(ldmks_err.shape[0]):\n",
        "  RMSE, MAE, MAX, PCC = getErrors(np.expand_dims(ldmks_bpm[i,:], axis=0), bpmGT, timesES, timesGT)\n",
        "  ldmks_err[i,0] = RMSE\n",
        "  ldmks_err[i,1] = MAE\n",
        "  ldmks_err[i,2] = MAX\n",
        "  if np.isnan(PCC):\n",
        "    PCC = 0.0\n",
        "  ldmks_err[i,3] = PCC"
      ],
      "execution_count": null,
      "outputs": []
    },
    {
      "cell_type": "code",
      "metadata": {
        "id": "-7YXCfqJelzV"
      },
      "source": [
        "top_n = 20\n",
        "radius = 40*2"
      ],
      "execution_count": null,
      "outputs": []
    },
    {
      "cell_type": "markdown",
      "metadata": {
        "id": "t49LbtKBHD_E"
      },
      "source": [
        "# RMSE heat map"
      ]
    },
    {
      "cell_type": "code",
      "metadata": {
        "id": "jbp-0oGeHD_E"
      },
      "source": [
        "RMSE_errors = ldmks_err[:,0]\n",
        "RMSE_errors = RMSE_errors/np.sum(RMSE_errors)\n",
        "RMSE_errors = RMSE_errors/np.max(RMSE_errors)\n",
        "RMSE_sorted_errors = np.argsort(RMSE_errors)\n",
        "print(np.min(RMSE_errors))\n",
        "print(np.max(RMSE_errors))\n",
        "print(RMSE_sorted_errors[:top_n])\n",
        "print(RMSE_errors[RMSE_sorted_errors[:top_n]])"
      ],
      "execution_count": null,
      "outputs": []
    },
    {
      "cell_type": "code",
      "metadata": {
        "id": "czU1eQIoHD_F"
      },
      "source": [
        "visualize_landmarks_list(\"/home/frea/Documents/pyVHRnew/img/face.png\", RMSE_sorted_errors[:top_n])"
      ],
      "execution_count": null,
      "outputs": []
    },
    {
      "cell_type": "code",
      "metadata": {
        "id": "5ChEkezqHD_F"
      },
      "source": [
        "plot_heat_map(RMSE_errors,RMSE_sorted_errors, radius,radius, 0.5)"
      ],
      "execution_count": null,
      "outputs": []
    },
    {
      "cell_type": "markdown",
      "metadata": {
        "id": "EqOicj4kHYTU"
      },
      "source": [
        "# MAE heat map"
      ]
    },
    {
      "cell_type": "code",
      "metadata": {
        "id": "jgUkEFV3HYTV"
      },
      "source": [
        "MAE_errors = ldmks_err[:,1]\n",
        "MAE_errors = MAE_errors/np.sum(MAE_errors)\n",
        "MAE_errors = MAE_errors/np.max(MAE_errors)\n",
        "MAE_sorted_errors = np.argsort(MAE_errors)\n",
        "print(np.min(MAE_errors))\n",
        "print(np.max(MAE_errors))\n",
        "print(MAE_sorted_errors[:top_n])\n",
        "print(MAE_errors[MAE_sorted_errors[:top_n]])"
      ],
      "execution_count": null,
      "outputs": []
    },
    {
      "cell_type": "code",
      "metadata": {
        "id": "3xHlXHNtHYTV"
      },
      "source": [
        "visualize_landmarks_list(\"/home/frea/Documents/pyVHRnew/img/face.png\", MAE_sorted_errors[:top_n])"
      ],
      "execution_count": null,
      "outputs": []
    },
    {
      "cell_type": "code",
      "metadata": {
        "id": "GM4Vq6PJHYTV"
      },
      "source": [
        "plot_heat_map(MAE_errors,MAE_sorted_errors, radius,radius, 0.5)"
      ],
      "execution_count": null,
      "outputs": []
    },
    {
      "cell_type": "markdown",
      "metadata": {
        "id": "0gNMFCDzhSpJ"
      },
      "source": [
        "# MAX heat map"
      ]
    },
    {
      "cell_type": "code",
      "metadata": {
        "id": "fE_615h6hUyQ"
      },
      "source": [
        "MAX_errors = ldmks_err[:,2]\n",
        "MAX_errors = MAX_errors/np.sum(MAX_errors)\n",
        "MAX_errors = MAX_errors/np.max(MAX_errors)\n",
        "MAX_sorted_errors = np.argsort(MAX_errors)\n",
        "print(np.min(MAX_errors))\n",
        "print(np.max(MAX_errors))\n",
        "print(MAX_sorted_errors[:top_n])\n",
        "print(MAX_errors[MAX_sorted_errors[:top_n]])"
      ],
      "execution_count": null,
      "outputs": []
    },
    {
      "cell_type": "code",
      "metadata": {
        "id": "olBZrHiQGIKl"
      },
      "source": [
        "visualize_landmarks_list(\"/home/frea/Documents/pyVHRnew/img/face.png\", MAX_sorted_errors[:top_n])"
      ],
      "execution_count": null,
      "outputs": []
    },
    {
      "cell_type": "code",
      "metadata": {
        "id": "WO559cU2Fy7n"
      },
      "source": [
        "plot_heat_map(MAX_errors,MAX_sorted_errors, radius,radius, 0.5)"
      ],
      "execution_count": null,
      "outputs": []
    },
    {
      "cell_type": "markdown",
      "metadata": {
        "id": "-VqOwHG7HwZn"
      },
      "source": [
        "# PCC heat map"
      ]
    },
    {
      "cell_type": "code",
      "metadata": {
        "id": "3bAmj_lZHwZw"
      },
      "source": [
        "PCC_errors = ldmks_err[:,3]\n",
        "PCC_errors = PCC_errors+1.0\n",
        "PCC_errors = PCC_errors/np.sum(PCC_errors)\n",
        "PCC_errors = PCC_errors/np.max(PCC_errors)\n",
        "PCC_sorted_errors = np.argsort(PCC_errors)[::-1]\n",
        "print(np.min(PCC_errors))\n",
        "print(np.max(PCC_errors))\n",
        "print(PCC_sorted_errors[:top_n])\n",
        "print(PCC_errors[PCC_sorted_errors[:top_n]])"
      ],
      "execution_count": null,
      "outputs": []
    },
    {
      "cell_type": "code",
      "metadata": {
        "id": "aSpgjqVNHwZx"
      },
      "source": [
        "visualize_landmarks_list(\"/home/frea/Documents/pyVHRnew/img/face.png\", PCC_sorted_errors[:top_n])"
      ],
      "execution_count": null,
      "outputs": []
    },
    {
      "cell_type": "code",
      "metadata": {
        "id": "vmHtRWtAHwZx"
      },
      "source": [
        "plot_heat_map(PCC_errors,PCC_sorted_errors, radius, radius, 0.5, reverse=False)"
      ],
      "execution_count": null,
      "outputs": []
    },
    {
      "cell_type": "markdown",
      "metadata": {
        "id": "LXe4Vu7-OvEI"
      },
      "source": [
        "# TOP landmarks"
      ]
    },
    {
      "cell_type": "code",
      "metadata": {
        "id": "ObiGmYQ8-m4i"
      },
      "source": [
        "# median of topn\n",
        "list_to_plot = []\n",
        "for e in RMSE_sorted_errors[:top_n]:\n",
        "  list_to_plot.append(e)\n",
        "for e in MAE_sorted_errors[:top_n]:\n",
        "  list_to_plot.append(e)\n",
        "for e in MAX_sorted_errors[:top_n]:\n",
        "  list_to_plot.append(e)\n",
        "for e in PCC_sorted_errors[:top_n]:\n",
        "  list_to_plot.append(e)\n",
        "list_to_plot = list(set(list_to_plot))\n",
        "top_landmarks = [[ldmks_bpm[i]] for i in list_to_plot]\n",
        "top_landmarks = np.array(top_landmarks)\n",
        "top_landmarks = np.squeeze(top_landmarks,axis=1)\n",
        "top_landmarks = np.median(top_landmarks, axis=0)\n",
        "visualize_BPMs([[top_landmarks,timesES,\"top_ldmks\"],[hol_bpmES ,hol_timesES,\"hol\"], [bpmGT,timesGT,\"GT\"]])"
      ],
      "execution_count": null,
      "outputs": []
    },
    {
      "cell_type": "code",
      "metadata": {
        "id": "PBiN9RuOiPlb"
      },
      "source": [
        "RMSE, MAE, MAX, PCC = getErrors(np.expand_dims(top_landmarks, axis=0), bpmGT, hol_timesES, timesGT)\n",
        "printErrors(RMSE, MAE, MAX, PCC)"
      ],
      "execution_count": null,
      "outputs": []
    },
    {
      "cell_type": "code",
      "metadata": {
        "id": "-f__EclrI4xh"
      },
      "source": [
        "RMSE, MAE, MAX, PCC = getErrors(np.expand_dims(hol_bpmES, axis=0), bpmGT, hol_timesES, timesGT)\n",
        "printErrors(RMSE, MAE, MAX, PCC)"
      ],
      "execution_count": null,
      "outputs": []
    },
    {
      "cell_type": "code",
      "metadata": {
        "id": "Q_PBHzgOQ_x5"
      },
      "source": [
        "#common idx \n",
        "best_rmse = RMSE_sorted_errors[:top_n]\n",
        "best_mae = MAE_sorted_errors[:top_n]\n",
        "best_max = MAX_sorted_errors[:top_n]\n",
        "best_pcc = PCC_sorted_errors[:top_n]\n",
        "top_intersection = set(best_rmse).intersection(set(best_mae).intersection(set(best_max).intersection(best_pcc)))\n",
        "print(top_intersection)\n",
        "print(len(top_intersection))"
      ],
      "execution_count": null,
      "outputs": []
    },
    {
      "cell_type": "code",
      "metadata": {
        "id": "HLUWL54ohNVN"
      },
      "source": [
        "visualize_landmarks_list(\"/home/frea/Documents/pyVHRnew/img/face.png\", list(top_intersection))"
      ],
      "execution_count": null,
      "outputs": []
    }
  ]
}